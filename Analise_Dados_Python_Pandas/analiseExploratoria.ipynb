{
 "cells": [
  {
   "cell_type": "code",
   "execution_count": 1,
   "id": "a08630bf",
   "metadata": {},
   "outputs": [],
   "source": [
    "import pandas as pd\n",
    "import matplotlib.pyplot as plt\n",
    "plt.style.use(\"seaborn\")"
   ]
  },
  {
   "cell_type": "code",
   "execution_count": 38,
   "id": "e9283073",
   "metadata": {},
   "outputs": [],
   "source": [
    "pd.options.display.float_format = '{:20,.2f}'.format"
   ]
  },
  {
   "cell_type": "code",
   "execution_count": 2,
   "id": "d56cca2f",
   "metadata": {},
   "outputs": [],
   "source": [
    "# Importando arquivo do excel para um DataFrame\n",
    "df = pd.read_excel('dataset/AdventureWorks.xlsx')"
   ]
  },
  {
   "cell_type": "code",
   "execution_count": 3,
   "id": "f2cd79d9",
   "metadata": {},
   "outputs": [
    {
     "data": {
      "text/html": [
       "<div>\n",
       "<style scoped>\n",
       "    .dataframe tbody tr th:only-of-type {\n",
       "        vertical-align: middle;\n",
       "    }\n",
       "\n",
       "    .dataframe tbody tr th {\n",
       "        vertical-align: top;\n",
       "    }\n",
       "\n",
       "    .dataframe thead th {\n",
       "        text-align: right;\n",
       "    }\n",
       "</style>\n",
       "<table border=\"1\" class=\"dataframe\">\n",
       "  <thead>\n",
       "    <tr style=\"text-align: right;\">\n",
       "      <th></th>\n",
       "      <th>Data Venda</th>\n",
       "      <th>Data Envio</th>\n",
       "      <th>ID Loja</th>\n",
       "      <th>ID Produto</th>\n",
       "      <th>ID Cliente</th>\n",
       "      <th>No. Venda</th>\n",
       "      <th>Custo Unitário</th>\n",
       "      <th>Preço Unitário</th>\n",
       "      <th>Quantidade</th>\n",
       "      <th>Valor Desconto</th>\n",
       "      <th>Valor Venda</th>\n",
       "      <th>Produto</th>\n",
       "      <th>Fabricante</th>\n",
       "      <th>Marca</th>\n",
       "      <th>Classe</th>\n",
       "      <th>Cor</th>\n",
       "    </tr>\n",
       "  </thead>\n",
       "  <tbody>\n",
       "    <tr>\n",
       "      <th>0</th>\n",
       "      <td>2008-05-09</td>\n",
       "      <td>2008-05-29</td>\n",
       "      <td>199</td>\n",
       "      <td>384</td>\n",
       "      <td>18839</td>\n",
       "      <td>200805093CS607</td>\n",
       "      <td>348.58</td>\n",
       "      <td>758.0</td>\n",
       "      <td>6</td>\n",
       "      <td>0.0</td>\n",
       "      <td>4548.0</td>\n",
       "      <td>Adventure Works Laptop15.4W M1548 Red</td>\n",
       "      <td>Adventure Works</td>\n",
       "      <td>Adventure Works</td>\n",
       "      <td>Regular</td>\n",
       "      <td>Red</td>\n",
       "    </tr>\n",
       "    <tr>\n",
       "      <th>1</th>\n",
       "      <td>2008-05-12</td>\n",
       "      <td>2008-05-17</td>\n",
       "      <td>306</td>\n",
       "      <td>384</td>\n",
       "      <td>19051</td>\n",
       "      <td>200805123CS567</td>\n",
       "      <td>348.58</td>\n",
       "      <td>758.0</td>\n",
       "      <td>6</td>\n",
       "      <td>0.0</td>\n",
       "      <td>4548.0</td>\n",
       "      <td>Adventure Works Laptop15.4W M1548 Red</td>\n",
       "      <td>Adventure Works</td>\n",
       "      <td>Adventure Works</td>\n",
       "      <td>Regular</td>\n",
       "      <td>Red</td>\n",
       "    </tr>\n",
       "    <tr>\n",
       "      <th>2</th>\n",
       "      <td>2008-05-14</td>\n",
       "      <td>2008-05-20</td>\n",
       "      <td>306</td>\n",
       "      <td>384</td>\n",
       "      <td>19052</td>\n",
       "      <td>200805143CS576</td>\n",
       "      <td>348.58</td>\n",
       "      <td>758.0</td>\n",
       "      <td>6</td>\n",
       "      <td>0.0</td>\n",
       "      <td>4548.0</td>\n",
       "      <td>Adventure Works Laptop15.4W M1548 Red</td>\n",
       "      <td>Adventure Works</td>\n",
       "      <td>Adventure Works</td>\n",
       "      <td>Regular</td>\n",
       "      <td>Red</td>\n",
       "    </tr>\n",
       "    <tr>\n",
       "      <th>3</th>\n",
       "      <td>2008-05-21</td>\n",
       "      <td>2008-05-27</td>\n",
       "      <td>306</td>\n",
       "      <td>384</td>\n",
       "      <td>19052</td>\n",
       "      <td>200805213CS576</td>\n",
       "      <td>348.58</td>\n",
       "      <td>758.0</td>\n",
       "      <td>6</td>\n",
       "      <td>0.0</td>\n",
       "      <td>4548.0</td>\n",
       "      <td>Adventure Works Laptop15.4W M1548 Red</td>\n",
       "      <td>Adventure Works</td>\n",
       "      <td>Adventure Works</td>\n",
       "      <td>Regular</td>\n",
       "      <td>Red</td>\n",
       "    </tr>\n",
       "    <tr>\n",
       "      <th>4</th>\n",
       "      <td>2008-06-20</td>\n",
       "      <td>2008-06-27</td>\n",
       "      <td>306</td>\n",
       "      <td>384</td>\n",
       "      <td>19053</td>\n",
       "      <td>200806203CS586</td>\n",
       "      <td>348.58</td>\n",
       "      <td>758.0</td>\n",
       "      <td>6</td>\n",
       "      <td>0.0</td>\n",
       "      <td>4548.0</td>\n",
       "      <td>Adventure Works Laptop15.4W M1548 Red</td>\n",
       "      <td>Adventure Works</td>\n",
       "      <td>Adventure Works</td>\n",
       "      <td>Regular</td>\n",
       "      <td>Red</td>\n",
       "    </tr>\n",
       "  </tbody>\n",
       "</table>\n",
       "</div>"
      ],
      "text/plain": [
       "  Data Venda Data Envio  ID Loja  ID Produto  ID Cliente       No. Venda  \\\n",
       "0 2008-05-09 2008-05-29      199         384       18839  200805093CS607   \n",
       "1 2008-05-12 2008-05-17      306         384       19051  200805123CS567   \n",
       "2 2008-05-14 2008-05-20      306         384       19052  200805143CS576   \n",
       "3 2008-05-21 2008-05-27      306         384       19052  200805213CS576   \n",
       "4 2008-06-20 2008-06-27      306         384       19053  200806203CS586   \n",
       "\n",
       "   Custo Unitário  Preço Unitário  Quantidade  Valor Desconto  Valor Venda  \\\n",
       "0          348.58           758.0           6             0.0       4548.0   \n",
       "1          348.58           758.0           6             0.0       4548.0   \n",
       "2          348.58           758.0           6             0.0       4548.0   \n",
       "3          348.58           758.0           6             0.0       4548.0   \n",
       "4          348.58           758.0           6             0.0       4548.0   \n",
       "\n",
       "                                 Produto       Fabricante            Marca  \\\n",
       "0  Adventure Works Laptop15.4W M1548 Red  Adventure Works  Adventure Works   \n",
       "1  Adventure Works Laptop15.4W M1548 Red  Adventure Works  Adventure Works   \n",
       "2  Adventure Works Laptop15.4W M1548 Red  Adventure Works  Adventure Works   \n",
       "3  Adventure Works Laptop15.4W M1548 Red  Adventure Works  Adventure Works   \n",
       "4  Adventure Works Laptop15.4W M1548 Red  Adventure Works  Adventure Works   \n",
       "\n",
       "    Classe  Cor  \n",
       "0  Regular  Red  \n",
       "1  Regular  Red  \n",
       "2  Regular  Red  \n",
       "3  Regular  Red  \n",
       "4  Regular  Red  "
      ]
     },
     "execution_count": 3,
     "metadata": {},
     "output_type": "execute_result"
    }
   ],
   "source": [
    "# Listando as 5 primeiras linhas\n",
    "df.head()"
   ]
  },
  {
   "cell_type": "code",
   "execution_count": 4,
   "id": "869ac9b5",
   "metadata": {},
   "outputs": [
    {
     "data": {
      "text/plain": [
       "Data Venda        0\n",
       "Data Envio        0\n",
       "ID Loja           0\n",
       "ID Produto        0\n",
       "ID Cliente        0\n",
       "No. Venda         0\n",
       "Custo Unitário    0\n",
       "Preço Unitário    0\n",
       "Quantidade        0\n",
       "Valor Desconto    0\n",
       "Valor Venda       0\n",
       "Produto           0\n",
       "Fabricante        0\n",
       "Marca             0\n",
       "Classe            0\n",
       "Cor               0\n",
       "dtype: int64"
      ]
     },
     "execution_count": 4,
     "metadata": {},
     "output_type": "execute_result"
    }
   ],
   "source": [
    "# Verificando se existe algum dado faltante\n",
    "df.isna().sum()"
   ]
  },
  {
   "cell_type": "code",
   "execution_count": 5,
   "id": "9106966a",
   "metadata": {},
   "outputs": [
    {
     "name": "stdout",
     "output_type": "stream",
     "text": [
      "<class 'pandas.core.frame.DataFrame'>\n",
      "RangeIndex: 904 entries, 0 to 903\n",
      "Data columns (total 16 columns):\n",
      " #   Column          Non-Null Count  Dtype         \n",
      "---  ------          --------------  -----         \n",
      " 0   Data Venda      904 non-null    datetime64[ns]\n",
      " 1   Data Envio      904 non-null    datetime64[ns]\n",
      " 2   ID Loja         904 non-null    int64         \n",
      " 3   ID Produto      904 non-null    int64         \n",
      " 4   ID Cliente      904 non-null    int64         \n",
      " 5   No. Venda       904 non-null    object        \n",
      " 6   Custo Unitário  904 non-null    float64       \n",
      " 7   Preço Unitário  904 non-null    float64       \n",
      " 8   Quantidade      904 non-null    int64         \n",
      " 9   Valor Desconto  904 non-null    float64       \n",
      " 10  Valor Venda     904 non-null    float64       \n",
      " 11  Produto         904 non-null    object        \n",
      " 12  Fabricante      904 non-null    object        \n",
      " 13  Marca           904 non-null    object        \n",
      " 14  Classe          904 non-null    object        \n",
      " 15  Cor             904 non-null    object        \n",
      "dtypes: datetime64[ns](2), float64(4), int64(4), object(6)\n",
      "memory usage: 113.1+ KB\n"
     ]
    }
   ],
   "source": [
    "# Verificando os tipos de dados\n",
    "df.info()"
   ]
  },
  {
   "cell_type": "code",
   "execution_count": 6,
   "id": "0ab2fc73",
   "metadata": {},
   "outputs": [],
   "source": [
    "# Mudando o tipo do atributo ID Loja    int - object\n",
    "# Mudando o tipo do atributo ID Produto int - object\n",
    "# Mudando o tipo do atributo ID Cliente int - object\n",
    "df['ID Loja'] = df['ID Loja'].astype('object')\n",
    "df['ID Produto'] = df['ID Produto'].astype('object')\n",
    "df['ID Cliente'] = df['ID Cliente'].astype('object')"
   ]
  },
  {
   "cell_type": "code",
   "execution_count": 7,
   "id": "73d48db6",
   "metadata": {},
   "outputs": [
    {
     "name": "stdout",
     "output_type": "stream",
     "text": [
      "<class 'pandas.core.frame.DataFrame'>\n",
      "RangeIndex: 904 entries, 0 to 903\n",
      "Data columns (total 16 columns):\n",
      " #   Column          Non-Null Count  Dtype         \n",
      "---  ------          --------------  -----         \n",
      " 0   Data Venda      904 non-null    datetime64[ns]\n",
      " 1   Data Envio      904 non-null    datetime64[ns]\n",
      " 2   ID Loja         904 non-null    object        \n",
      " 3   ID Produto      904 non-null    object        \n",
      " 4   ID Cliente      904 non-null    object        \n",
      " 5   No. Venda       904 non-null    object        \n",
      " 6   Custo Unitário  904 non-null    float64       \n",
      " 7   Preço Unitário  904 non-null    float64       \n",
      " 8   Quantidade      904 non-null    int64         \n",
      " 9   Valor Desconto  904 non-null    float64       \n",
      " 10  Valor Venda     904 non-null    float64       \n",
      " 11  Produto         904 non-null    object        \n",
      " 12  Fabricante      904 non-null    object        \n",
      " 13  Marca           904 non-null    object        \n",
      " 14  Classe          904 non-null    object        \n",
      " 15  Cor             904 non-null    object        \n",
      "dtypes: datetime64[ns](2), float64(4), int64(1), object(9)\n",
      "memory usage: 113.1+ KB\n"
     ]
    }
   ],
   "source": [
    "# Verificando se os tipos foram atualizados\n",
    "df.info()"
   ]
  },
  {
   "cell_type": "code",
   "execution_count": 8,
   "id": "92a2cf07",
   "metadata": {},
   "outputs": [],
   "source": [
    "# Quantidade de dias entre a venda e a entrega do produto\n",
    "df['Prazo Entrega'] = (df['Data Envio'] - df['Data Venda']).dt.days"
   ]
  },
  {
   "cell_type": "code",
   "execution_count": 9,
   "id": "fcb200df",
   "metadata": {},
   "outputs": [
    {
     "data": {
      "text/html": [
       "<div>\n",
       "<style scoped>\n",
       "    .dataframe tbody tr th:only-of-type {\n",
       "        vertical-align: middle;\n",
       "    }\n",
       "\n",
       "    .dataframe tbody tr th {\n",
       "        vertical-align: top;\n",
       "    }\n",
       "\n",
       "    .dataframe thead th {\n",
       "        text-align: right;\n",
       "    }\n",
       "</style>\n",
       "<table border=\"1\" class=\"dataframe\">\n",
       "  <thead>\n",
       "    <tr style=\"text-align: right;\">\n",
       "      <th></th>\n",
       "      <th>Data Venda</th>\n",
       "      <th>Data Envio</th>\n",
       "      <th>ID Loja</th>\n",
       "      <th>ID Produto</th>\n",
       "      <th>ID Cliente</th>\n",
       "      <th>No. Venda</th>\n",
       "      <th>Custo Unitário</th>\n",
       "      <th>Preço Unitário</th>\n",
       "      <th>Quantidade</th>\n",
       "      <th>Valor Desconto</th>\n",
       "      <th>Valor Venda</th>\n",
       "      <th>Produto</th>\n",
       "      <th>Fabricante</th>\n",
       "      <th>Marca</th>\n",
       "      <th>Classe</th>\n",
       "      <th>Cor</th>\n",
       "      <th>Prazo Entrega</th>\n",
       "    </tr>\n",
       "  </thead>\n",
       "  <tbody>\n",
       "    <tr>\n",
       "      <th>0</th>\n",
       "      <td>2008-05-09</td>\n",
       "      <td>2008-05-29</td>\n",
       "      <td>199</td>\n",
       "      <td>384</td>\n",
       "      <td>18839</td>\n",
       "      <td>200805093CS607</td>\n",
       "      <td>348.58</td>\n",
       "      <td>758.0</td>\n",
       "      <td>6</td>\n",
       "      <td>0.0</td>\n",
       "      <td>4548.0</td>\n",
       "      <td>Adventure Works Laptop15.4W M1548 Red</td>\n",
       "      <td>Adventure Works</td>\n",
       "      <td>Adventure Works</td>\n",
       "      <td>Regular</td>\n",
       "      <td>Red</td>\n",
       "      <td>20</td>\n",
       "    </tr>\n",
       "    <tr>\n",
       "      <th>1</th>\n",
       "      <td>2008-05-12</td>\n",
       "      <td>2008-05-17</td>\n",
       "      <td>306</td>\n",
       "      <td>384</td>\n",
       "      <td>19051</td>\n",
       "      <td>200805123CS567</td>\n",
       "      <td>348.58</td>\n",
       "      <td>758.0</td>\n",
       "      <td>6</td>\n",
       "      <td>0.0</td>\n",
       "      <td>4548.0</td>\n",
       "      <td>Adventure Works Laptop15.4W M1548 Red</td>\n",
       "      <td>Adventure Works</td>\n",
       "      <td>Adventure Works</td>\n",
       "      <td>Regular</td>\n",
       "      <td>Red</td>\n",
       "      <td>5</td>\n",
       "    </tr>\n",
       "    <tr>\n",
       "      <th>2</th>\n",
       "      <td>2008-05-14</td>\n",
       "      <td>2008-05-20</td>\n",
       "      <td>306</td>\n",
       "      <td>384</td>\n",
       "      <td>19052</td>\n",
       "      <td>200805143CS576</td>\n",
       "      <td>348.58</td>\n",
       "      <td>758.0</td>\n",
       "      <td>6</td>\n",
       "      <td>0.0</td>\n",
       "      <td>4548.0</td>\n",
       "      <td>Adventure Works Laptop15.4W M1548 Red</td>\n",
       "      <td>Adventure Works</td>\n",
       "      <td>Adventure Works</td>\n",
       "      <td>Regular</td>\n",
       "      <td>Red</td>\n",
       "      <td>6</td>\n",
       "    </tr>\n",
       "    <tr>\n",
       "      <th>3</th>\n",
       "      <td>2008-05-21</td>\n",
       "      <td>2008-05-27</td>\n",
       "      <td>306</td>\n",
       "      <td>384</td>\n",
       "      <td>19052</td>\n",
       "      <td>200805213CS576</td>\n",
       "      <td>348.58</td>\n",
       "      <td>758.0</td>\n",
       "      <td>6</td>\n",
       "      <td>0.0</td>\n",
       "      <td>4548.0</td>\n",
       "      <td>Adventure Works Laptop15.4W M1548 Red</td>\n",
       "      <td>Adventure Works</td>\n",
       "      <td>Adventure Works</td>\n",
       "      <td>Regular</td>\n",
       "      <td>Red</td>\n",
       "      <td>6</td>\n",
       "    </tr>\n",
       "    <tr>\n",
       "      <th>4</th>\n",
       "      <td>2008-06-20</td>\n",
       "      <td>2008-06-27</td>\n",
       "      <td>306</td>\n",
       "      <td>384</td>\n",
       "      <td>19053</td>\n",
       "      <td>200806203CS586</td>\n",
       "      <td>348.58</td>\n",
       "      <td>758.0</td>\n",
       "      <td>6</td>\n",
       "      <td>0.0</td>\n",
       "      <td>4548.0</td>\n",
       "      <td>Adventure Works Laptop15.4W M1548 Red</td>\n",
       "      <td>Adventure Works</td>\n",
       "      <td>Adventure Works</td>\n",
       "      <td>Regular</td>\n",
       "      <td>Red</td>\n",
       "      <td>7</td>\n",
       "    </tr>\n",
       "  </tbody>\n",
       "</table>\n",
       "</div>"
      ],
      "text/plain": [
       "  Data Venda Data Envio ID Loja ID Produto ID Cliente       No. Venda  \\\n",
       "0 2008-05-09 2008-05-29     199        384      18839  200805093CS607   \n",
       "1 2008-05-12 2008-05-17     306        384      19051  200805123CS567   \n",
       "2 2008-05-14 2008-05-20     306        384      19052  200805143CS576   \n",
       "3 2008-05-21 2008-05-27     306        384      19052  200805213CS576   \n",
       "4 2008-06-20 2008-06-27     306        384      19053  200806203CS586   \n",
       "\n",
       "   Custo Unitário  Preço Unitário  Quantidade  Valor Desconto  Valor Venda  \\\n",
       "0          348.58           758.0           6             0.0       4548.0   \n",
       "1          348.58           758.0           6             0.0       4548.0   \n",
       "2          348.58           758.0           6             0.0       4548.0   \n",
       "3          348.58           758.0           6             0.0       4548.0   \n",
       "4          348.58           758.0           6             0.0       4548.0   \n",
       "\n",
       "                                 Produto       Fabricante            Marca  \\\n",
       "0  Adventure Works Laptop15.4W M1548 Red  Adventure Works  Adventure Works   \n",
       "1  Adventure Works Laptop15.4W M1548 Red  Adventure Works  Adventure Works   \n",
       "2  Adventure Works Laptop15.4W M1548 Red  Adventure Works  Adventure Works   \n",
       "3  Adventure Works Laptop15.4W M1548 Red  Adventure Works  Adventure Works   \n",
       "4  Adventure Works Laptop15.4W M1548 Red  Adventure Works  Adventure Works   \n",
       "\n",
       "    Classe  Cor  Prazo Entrega  \n",
       "0  Regular  Red             20  \n",
       "1  Regular  Red              5  \n",
       "2  Regular  Red              6  \n",
       "3  Regular  Red              6  \n",
       "4  Regular  Red              7  "
      ]
     },
     "execution_count": 9,
     "metadata": {},
     "output_type": "execute_result"
    }
   ],
   "source": [
    "df.head()"
   ]
  },
  {
   "cell_type": "code",
   "execution_count": 10,
   "id": "5f57c485",
   "metadata": {},
   "outputs": [
    {
     "data": {
      "text/html": [
       "<div>\n",
       "<style scoped>\n",
       "    .dataframe tbody tr th:only-of-type {\n",
       "        vertical-align: middle;\n",
       "    }\n",
       "\n",
       "    .dataframe tbody tr th {\n",
       "        vertical-align: top;\n",
       "    }\n",
       "\n",
       "    .dataframe thead th {\n",
       "        text-align: right;\n",
       "    }\n",
       "</style>\n",
       "<table border=\"1\" class=\"dataframe\">\n",
       "  <thead>\n",
       "    <tr style=\"text-align: right;\">\n",
       "      <th></th>\n",
       "      <th>Data Venda</th>\n",
       "      <th>Data Envio</th>\n",
       "      <th>ID Loja</th>\n",
       "      <th>ID Produto</th>\n",
       "      <th>ID Cliente</th>\n",
       "      <th>No. Venda</th>\n",
       "      <th>Custo Unitário</th>\n",
       "      <th>Preço Unitário</th>\n",
       "      <th>Quantidade</th>\n",
       "      <th>Valor Desconto</th>\n",
       "      <th>Valor Venda</th>\n",
       "      <th>Produto</th>\n",
       "      <th>Fabricante</th>\n",
       "      <th>Marca</th>\n",
       "      <th>Classe</th>\n",
       "      <th>Cor</th>\n",
       "      <th>Prazo Entrega</th>\n",
       "      <th>Custo Compra</th>\n",
       "      <th>Lucro</th>\n",
       "    </tr>\n",
       "  </thead>\n",
       "  <tbody>\n",
       "    <tr>\n",
       "      <th>757</th>\n",
       "      <td>2008-08-22</td>\n",
       "      <td>2008-08-30</td>\n",
       "      <td>199</td>\n",
       "      <td>2497</td>\n",
       "      <td>18864</td>\n",
       "      <td>200808225CS677</td>\n",
       "      <td>5.09</td>\n",
       "      <td>9.99</td>\n",
       "      <td>288</td>\n",
       "      <td>287.712</td>\n",
       "      <td>2589.408</td>\n",
       "      <td>Headphone Adapter for Contoso Phone E130 White</td>\n",
       "      <td>Contoso, Ltd</td>\n",
       "      <td>Contoso</td>\n",
       "      <td>Economy</td>\n",
       "      <td>White</td>\n",
       "      <td>8</td>\n",
       "      <td>1465.92</td>\n",
       "      <td>1123.488</td>\n",
       "    </tr>\n",
       "    <tr>\n",
       "      <th>96</th>\n",
       "      <td>2008-05-22</td>\n",
       "      <td>2008-05-27</td>\n",
       "      <td>199</td>\n",
       "      <td>1155</td>\n",
       "      <td>18841</td>\n",
       "      <td>200805224CS610</td>\n",
       "      <td>324.69</td>\n",
       "      <td>980.00</td>\n",
       "      <td>6</td>\n",
       "      <td>0.000</td>\n",
       "      <td>5880.000</td>\n",
       "      <td>Fabrikam Trendsetter 2/3'' 17mm X100 Black</td>\n",
       "      <td>Fabrikam, Inc.</td>\n",
       "      <td>Fabrikam</td>\n",
       "      <td>Regular</td>\n",
       "      <td>Black</td>\n",
       "      <td>5</td>\n",
       "      <td>1948.14</td>\n",
       "      <td>3931.860</td>\n",
       "    </tr>\n",
       "    <tr>\n",
       "      <th>312</th>\n",
       "      <td>2009-06-11</td>\n",
       "      <td>2009-06-21</td>\n",
       "      <td>307</td>\n",
       "      <td>384</td>\n",
       "      <td>19126</td>\n",
       "      <td>200906113CS716</td>\n",
       "      <td>348.58</td>\n",
       "      <td>758.00</td>\n",
       "      <td>22</td>\n",
       "      <td>1667.600</td>\n",
       "      <td>15008.400</td>\n",
       "      <td>Adventure Works Laptop15.4W M1548 Red</td>\n",
       "      <td>Adventure Works</td>\n",
       "      <td>Adventure Works</td>\n",
       "      <td>Regular</td>\n",
       "      <td>Red</td>\n",
       "      <td>10</td>\n",
       "      <td>7668.76</td>\n",
       "      <td>7339.640</td>\n",
       "    </tr>\n",
       "    <tr>\n",
       "      <th>722</th>\n",
       "      <td>2009-08-04</td>\n",
       "      <td>2009-08-13</td>\n",
       "      <td>199</td>\n",
       "      <td>2496</td>\n",
       "      <td>18975</td>\n",
       "      <td>200908045CS887</td>\n",
       "      <td>5.09</td>\n",
       "      <td>9.99</td>\n",
       "      <td>288</td>\n",
       "      <td>287.712</td>\n",
       "      <td>2589.408</td>\n",
       "      <td>Headphone Adapter for Contoso Phone E130 Silver</td>\n",
       "      <td>Contoso, Ltd</td>\n",
       "      <td>Contoso</td>\n",
       "      <td>Economy</td>\n",
       "      <td>Silver</td>\n",
       "      <td>9</td>\n",
       "      <td>1465.92</td>\n",
       "      <td>1123.488</td>\n",
       "    </tr>\n",
       "    <tr>\n",
       "      <th>399</th>\n",
       "      <td>2009-01-11</td>\n",
       "      <td>2009-01-18</td>\n",
       "      <td>307</td>\n",
       "      <td>1178</td>\n",
       "      <td>19113</td>\n",
       "      <td>200901114CS680</td>\n",
       "      <td>330.66</td>\n",
       "      <td>998.00</td>\n",
       "      <td>13</td>\n",
       "      <td>1946.100</td>\n",
       "      <td>11027.900</td>\n",
       "      <td>Fabrikam Trendsetter 1/3'' 8.5mm X200 White</td>\n",
       "      <td>Fabrikam, Inc.</td>\n",
       "      <td>Fabrikam</td>\n",
       "      <td>Regular</td>\n",
       "      <td>White</td>\n",
       "      <td>7</td>\n",
       "      <td>4298.58</td>\n",
       "      <td>6729.320</td>\n",
       "    </tr>\n",
       "  </tbody>\n",
       "</table>\n",
       "</div>"
      ],
      "text/plain": [
       "    Data Venda Data Envio ID Loja ID Produto ID Cliente       No. Venda  \\\n",
       "757 2008-08-22 2008-08-30     199       2497      18864  200808225CS677   \n",
       "96  2008-05-22 2008-05-27     199       1155      18841  200805224CS610   \n",
       "312 2009-06-11 2009-06-21     307        384      19126  200906113CS716   \n",
       "722 2009-08-04 2009-08-13     199       2496      18975  200908045CS887   \n",
       "399 2009-01-11 2009-01-18     307       1178      19113  200901114CS680   \n",
       "\n",
       "     Custo Unitário  Preço Unitário  Quantidade  Valor Desconto  Valor Venda  \\\n",
       "757            5.09            9.99         288         287.712     2589.408   \n",
       "96           324.69          980.00           6           0.000     5880.000   \n",
       "312          348.58          758.00          22        1667.600    15008.400   \n",
       "722            5.09            9.99         288         287.712     2589.408   \n",
       "399          330.66          998.00          13        1946.100    11027.900   \n",
       "\n",
       "                                             Produto       Fabricante  \\\n",
       "757   Headphone Adapter for Contoso Phone E130 White     Contoso, Ltd   \n",
       "96        Fabrikam Trendsetter 2/3'' 17mm X100 Black   Fabrikam, Inc.   \n",
       "312            Adventure Works Laptop15.4W M1548 Red  Adventure Works   \n",
       "722  Headphone Adapter for Contoso Phone E130 Silver     Contoso, Ltd   \n",
       "399      Fabrikam Trendsetter 1/3'' 8.5mm X200 White   Fabrikam, Inc.   \n",
       "\n",
       "               Marca   Classe     Cor  Prazo Entrega  Custo Compra     Lucro  \n",
       "757          Contoso  Economy   White              8       1465.92  1123.488  \n",
       "96          Fabrikam  Regular   Black              5       1948.14  3931.860  \n",
       "312  Adventure Works  Regular     Red             10       7668.76  7339.640  \n",
       "722          Contoso  Economy  Silver              9       1465.92  1123.488  \n",
       "399         Fabrikam  Regular   White              7       4298.58  6729.320  "
      ]
     },
     "execution_count": 10,
     "metadata": {},
     "output_type": "execute_result"
    }
   ],
   "source": [
    "# Calculo do custo por venda e o lucro por venda\n",
    "df['Custo Compra'] = df['Custo Unitário'].mul(df['Quantidade'])\n",
    "df['Lucro'] = df['Valor Venda'] - df['Custo Compra']\n",
    "\n",
    "df.sample(5)"
   ]
  },
  {
   "cell_type": "code",
   "execution_count": 11,
   "id": "e46f1b1e",
   "metadata": {},
   "outputs": [
    {
     "data": {
      "text/html": [
       "<div>\n",
       "<style scoped>\n",
       "    .dataframe tbody tr th:only-of-type {\n",
       "        vertical-align: middle;\n",
       "    }\n",
       "\n",
       "    .dataframe tbody tr th {\n",
       "        vertical-align: top;\n",
       "    }\n",
       "\n",
       "    .dataframe thead th {\n",
       "        text-align: right;\n",
       "    }\n",
       "</style>\n",
       "<table border=\"1\" class=\"dataframe\">\n",
       "  <thead>\n",
       "    <tr style=\"text-align: right;\">\n",
       "      <th></th>\n",
       "      <th>Data Venda</th>\n",
       "      <th>Data Envio</th>\n",
       "      <th>ID Loja</th>\n",
       "      <th>ID Produto</th>\n",
       "      <th>ID Cliente</th>\n",
       "      <th>No. Venda</th>\n",
       "      <th>Custo Unitário</th>\n",
       "      <th>Preço Unitário</th>\n",
       "      <th>Quantidade</th>\n",
       "      <th>Valor Desconto</th>\n",
       "      <th>...</th>\n",
       "      <th>Fabricante</th>\n",
       "      <th>Marca</th>\n",
       "      <th>Classe</th>\n",
       "      <th>Cor</th>\n",
       "      <th>Prazo Entrega</th>\n",
       "      <th>Custo Compra</th>\n",
       "      <th>Lucro</th>\n",
       "      <th>Ano Venda</th>\n",
       "      <th>Mes Venda</th>\n",
       "      <th>Dia Venda</th>\n",
       "    </tr>\n",
       "  </thead>\n",
       "  <tbody>\n",
       "    <tr>\n",
       "      <th>885</th>\n",
       "      <td>2008-03-07</td>\n",
       "      <td>2008-03-16</td>\n",
       "      <td>199</td>\n",
       "      <td>1155</td>\n",
       "      <td>18825</td>\n",
       "      <td>200803074CS580</td>\n",
       "      <td>324.69</td>\n",
       "      <td>980.0</td>\n",
       "      <td>6</td>\n",
       "      <td>294.0</td>\n",
       "      <td>...</td>\n",
       "      <td>Fabrikam, Inc.</td>\n",
       "      <td>Fabrikam</td>\n",
       "      <td>Regular</td>\n",
       "      <td>Black</td>\n",
       "      <td>9</td>\n",
       "      <td>1948.14</td>\n",
       "      <td>3637.86</td>\n",
       "      <td>2008</td>\n",
       "      <td>3</td>\n",
       "      <td>7</td>\n",
       "    </tr>\n",
       "    <tr>\n",
       "      <th>604</th>\n",
       "      <td>2009-02-14</td>\n",
       "      <td>2009-02-20</td>\n",
       "      <td>306</td>\n",
       "      <td>1155</td>\n",
       "      <td>19062</td>\n",
       "      <td>200902144CS737</td>\n",
       "      <td>324.69</td>\n",
       "      <td>980.0</td>\n",
       "      <td>8</td>\n",
       "      <td>548.8</td>\n",
       "      <td>...</td>\n",
       "      <td>Fabrikam, Inc.</td>\n",
       "      <td>Fabrikam</td>\n",
       "      <td>Regular</td>\n",
       "      <td>Black</td>\n",
       "      <td>6</td>\n",
       "      <td>2597.52</td>\n",
       "      <td>4693.68</td>\n",
       "      <td>2009</td>\n",
       "      <td>2</td>\n",
       "      <td>14</td>\n",
       "    </tr>\n",
       "    <tr>\n",
       "      <th>148</th>\n",
       "      <td>2009-07-06</td>\n",
       "      <td>2009-07-10</td>\n",
       "      <td>306</td>\n",
       "      <td>366</td>\n",
       "      <td>19070</td>\n",
       "      <td>200907063CS757</td>\n",
       "      <td>348.58</td>\n",
       "      <td>758.0</td>\n",
       "      <td>6</td>\n",
       "      <td>0.0</td>\n",
       "      <td>...</td>\n",
       "      <td>Adventure Works</td>\n",
       "      <td>Adventure Works</td>\n",
       "      <td>Regular</td>\n",
       "      <td>Black</td>\n",
       "      <td>4</td>\n",
       "      <td>2091.48</td>\n",
       "      <td>2456.52</td>\n",
       "      <td>2009</td>\n",
       "      <td>7</td>\n",
       "      <td>6</td>\n",
       "    </tr>\n",
       "    <tr>\n",
       "      <th>837</th>\n",
       "      <td>2008-11-05</td>\n",
       "      <td>2008-11-17</td>\n",
       "      <td>307</td>\n",
       "      <td>1202</td>\n",
       "      <td>19108</td>\n",
       "      <td>200811054CS648</td>\n",
       "      <td>330.66</td>\n",
       "      <td>998.0</td>\n",
       "      <td>6</td>\n",
       "      <td>898.2</td>\n",
       "      <td>...</td>\n",
       "      <td>Fabrikam, Inc.</td>\n",
       "      <td>Fabrikam</td>\n",
       "      <td>Regular</td>\n",
       "      <td>Grey</td>\n",
       "      <td>12</td>\n",
       "      <td>1983.96</td>\n",
       "      <td>3105.84</td>\n",
       "      <td>2008</td>\n",
       "      <td>11</td>\n",
       "      <td>5</td>\n",
       "    </tr>\n",
       "    <tr>\n",
       "      <th>861</th>\n",
       "      <td>2009-12-20</td>\n",
       "      <td>2010-01-01</td>\n",
       "      <td>306</td>\n",
       "      <td>1178</td>\n",
       "      <td>19078</td>\n",
       "      <td>200912204CS780</td>\n",
       "      <td>330.66</td>\n",
       "      <td>998.0</td>\n",
       "      <td>6</td>\n",
       "      <td>1197.6</td>\n",
       "      <td>...</td>\n",
       "      <td>Fabrikam, Inc.</td>\n",
       "      <td>Fabrikam</td>\n",
       "      <td>Regular</td>\n",
       "      <td>White</td>\n",
       "      <td>12</td>\n",
       "      <td>1983.96</td>\n",
       "      <td>2806.44</td>\n",
       "      <td>2009</td>\n",
       "      <td>12</td>\n",
       "      <td>20</td>\n",
       "    </tr>\n",
       "  </tbody>\n",
       "</table>\n",
       "<p>5 rows × 22 columns</p>\n",
       "</div>"
      ],
      "text/plain": [
       "    Data Venda Data Envio ID Loja ID Produto ID Cliente       No. Venda  \\\n",
       "885 2008-03-07 2008-03-16     199       1155      18825  200803074CS580   \n",
       "604 2009-02-14 2009-02-20     306       1155      19062  200902144CS737   \n",
       "148 2009-07-06 2009-07-10     306        366      19070  200907063CS757   \n",
       "837 2008-11-05 2008-11-17     307       1202      19108  200811054CS648   \n",
       "861 2009-12-20 2010-01-01     306       1178      19078  200912204CS780   \n",
       "\n",
       "     Custo Unitário  Preço Unitário  Quantidade  Valor Desconto  ...  \\\n",
       "885          324.69           980.0           6           294.0  ...   \n",
       "604          324.69           980.0           8           548.8  ...   \n",
       "148          348.58           758.0           6             0.0  ...   \n",
       "837          330.66           998.0           6           898.2  ...   \n",
       "861          330.66           998.0           6          1197.6  ...   \n",
       "\n",
       "          Fabricante            Marca   Classe    Cor Prazo Entrega  \\\n",
       "885   Fabrikam, Inc.         Fabrikam  Regular  Black             9   \n",
       "604   Fabrikam, Inc.         Fabrikam  Regular  Black             6   \n",
       "148  Adventure Works  Adventure Works  Regular  Black             4   \n",
       "837   Fabrikam, Inc.         Fabrikam  Regular   Grey            12   \n",
       "861   Fabrikam, Inc.         Fabrikam  Regular  White            12   \n",
       "\n",
       "    Custo Compra    Lucro  Ano Venda  Mes Venda  Dia Venda  \n",
       "885      1948.14  3637.86       2008          3          7  \n",
       "604      2597.52  4693.68       2009          2         14  \n",
       "148      2091.48  2456.52       2009          7          6  \n",
       "837      1983.96  3105.84       2008         11          5  \n",
       "861      1983.96  2806.44       2009         12         20  \n",
       "\n",
       "[5 rows x 22 columns]"
      ]
     },
     "execution_count": 11,
     "metadata": {},
     "output_type": "execute_result"
    }
   ],
   "source": [
    "# Dia / Mês / Ano\n",
    "df['Ano Venda'] = df['Data Venda'].dt.year\n",
    "df['Mes Venda'] = df['Data Venda'].dt.month\n",
    "df['Dia Venda'] = df['Data Venda'].dt.day\n",
    "\n",
    "df.sample(5)"
   ]
  },
  {
   "cell_type": "markdown",
   "id": "e60071f7",
   "metadata": {},
   "source": [
    "## Qual ano foi o mais lucrativo?"
   ]
  },
  {
   "cell_type": "code",
   "execution_count": 45,
   "id": "d2fb870a",
   "metadata": {},
   "outputs": [
    {
     "data": {
      "image/png": "[encoded data removed]",
      "text/plain": [
       "<Figure size 800x550 with 1 Axes>"
      ]
     },
     "metadata": {},
     "output_type": "display_data"
    }
   ],
   "source": [
    "# Lucro anual 2008 / 2009\n",
    "df.groupby('Ano Venda')['Lucro'].sum().sort_values().plot.bar()\n",
    "plt.xticks(rotation='horizontal');"
   ]
  },
  {
   "cell_type": "markdown",
   "id": "a5ae86a8",
   "metadata": {},
   "source": [
    "## Qual o Ano e o Mês mais lucrativo?"
   ]
  },
  {
   "cell_type": "code",
   "execution_count": 47,
   "id": "592f271a",
   "metadata": {},
   "outputs": [
    {
     "data": {
      "text/plain": [
       "Text(0.5, 0, '(Ano, mês)')"
      ]
     },
     "execution_count": 47,
     "metadata": {},
     "output_type": "execute_result"
    },
    {
     "data": {
      "image/png": "[encoded data removed]",
      "text/plain": [
       "<Figure size 800x550 with 1 Axes>"
      ]
     },
     "metadata": {},
     "output_type": "display_data"
    }
   ],
   "source": [
    "# Qual ano e mês que lucrou?\n",
    "df.groupby(['Ano Venda', 'Mes Venda'])['Lucro'].sum().plot(title = 'Lucro')\n",
    "plt.ylabel('Lucro')\n",
    "plt.xlabel('(Ano, mês)')"
   ]
  },
  {
   "cell_type": "markdown",
   "id": "f69b8d17",
   "metadata": {},
   "source": [
    "## Alguma venda teve prejuízo? "
   ]
  },
  {
   "cell_type": "code",
   "execution_count": 49,
   "id": "0158e11b",
   "metadata": {},
   "outputs": [
    {
     "data": {
      "text/html": [
       "<div>\n",
       "<style scoped>\n",
       "    .dataframe tbody tr th:only-of-type {\n",
       "        vertical-align: middle;\n",
       "    }\n",
       "\n",
       "    .dataframe tbody tr th {\n",
       "        vertical-align: top;\n",
       "    }\n",
       "\n",
       "    .dataframe thead th {\n",
       "        text-align: right;\n",
       "    }\n",
       "</style>\n",
       "<table border=\"1\" class=\"dataframe\">\n",
       "  <thead>\n",
       "    <tr style=\"text-align: right;\">\n",
       "      <th></th>\n",
       "      <th>Data Venda</th>\n",
       "      <th>Data Envio</th>\n",
       "      <th>ID Loja</th>\n",
       "      <th>ID Produto</th>\n",
       "      <th>ID Cliente</th>\n",
       "      <th>No. Venda</th>\n",
       "      <th>Custo Unitário</th>\n",
       "      <th>Preço Unitário</th>\n",
       "      <th>Quantidade</th>\n",
       "      <th>Valor Desconto</th>\n",
       "      <th>...</th>\n",
       "      <th>Marca</th>\n",
       "      <th>Classe</th>\n",
       "      <th>Cor</th>\n",
       "      <th>Prazo Entrega</th>\n",
       "      <th>Custo Compra</th>\n",
       "      <th>Lucro</th>\n",
       "      <th>Ano Venda</th>\n",
       "      <th>Mes Venda</th>\n",
       "      <th>Dia Venda</th>\n",
       "      <th>Lucro Unitário</th>\n",
       "    </tr>\n",
       "  </thead>\n",
       "  <tbody>\n",
       "  </tbody>\n",
       "</table>\n",
       "<p>0 rows × 23 columns</p>\n",
       "</div>"
      ],
      "text/plain": [
       "Empty DataFrame\n",
       "Columns: [Data Venda, Data Envio, ID Loja, ID Produto, ID Cliente, No. Venda, Custo Unitário, Preço Unitário, Quantidade, Valor Desconto, Valor Venda, Produto, Fabricante, Marca, Classe, Cor, Prazo Entrega, Custo Compra, Lucro, Ano Venda, Mes Venda, Dia Venda, Lucro Unitário]\n",
       "Index: []\n",
       "\n",
       "[0 rows x 23 columns]"
      ]
     },
     "execution_count": 49,
     "metadata": {},
     "output_type": "execute_result"
    }
   ],
   "source": [
    "df[df['Lucro'] < 0]\n",
    "\n",
    "# Não"
   ]
  },
  {
   "cell_type": "markdown",
   "id": "9e991968",
   "metadata": {},
   "source": [
    "## Qual o produto mais vendido?"
   ]
  },
  {
   "cell_type": "code",
   "execution_count": 79,
   "id": "40cfbfb4",
   "metadata": {},
   "outputs": [
    {
     "data": {
      "text/plain": [
       "Text(0.5, 0, 'Quantidade')"
      ]
     },
     "execution_count": 79,
     "metadata": {},
     "output_type": "execute_result"
    },
    {
     "data": {
      "image/png": "[encoded data removed]",
      "text/plain": [
       "<Figure size 800x550 with 1 Axes>"
      ]
     },
     "metadata": {},
     "output_type": "display_data"
    }
   ],
   "source": [
    "df2 = df.groupby(['Produto', 'Quantidade'])['ID Produto'].count().reset_index()\n",
    "df2['Quantidade Item'] = df2['Quantidade'].mul(df2['ID Produto'])\n",
    "df2.groupby('Produto')['Quantidade Item'].sum().sort_values().plot.barh(title = 'Produto mais vendido', color = 'green')\n",
    "plt.xlabel('Quantidade')"
   ]
  },
  {
   "cell_type": "markdown",
   "id": "ab990883",
   "metadata": {},
   "source": [
    "## Qual produto é mais lucrativo?"
   ]
  },
  {
   "cell_type": "code",
   "execution_count": 81,
   "id": "580fd800",
   "metadata": {},
   "outputs": [
    {
     "data": {
      "text/plain": [
       "\"Fabrikam Trendsetter 1/3'' 8.5mm X200 Black\""
      ]
     },
     "execution_count": 81,
     "metadata": {},
     "output_type": "execute_result"
    }
   ],
   "source": [
    "df['Lucro Unitário'] = df['Preço Unitário'] - df['Custo Unitário']\n",
    "df[df['Lucro Unitário'] == max(df['Lucro Unitário'])]['Produto'].unique()[0]"
   ]
  },
  {
   "cell_type": "markdown",
   "id": "d524ed20",
   "metadata": {},
   "source": [
    "## Qual a loja que mais vendeu?"
   ]
  },
  {
   "cell_type": "code",
   "execution_count": 107,
   "id": "42188cab",
   "metadata": {},
   "outputs": [
    {
     "data": {
      "text/plain": [
       "(array([0, 1, 2]), [Text(0, 0, '306'), Text(1, 0, '199'), Text(2, 0, '307')])"
      ]
     },
     "execution_count": 107,
     "metadata": {},
     "output_type": "execute_result"
    },
    {
     "data": {
      "image/png": "[encoded data removed]",
      "text/plain": [
       "<Figure size 800x550 with 1 Axes>"
      ]
     },
     "metadata": {},
     "output_type": "display_data"
    }
   ],
   "source": [
    "df3 = df.groupby(['ID Loja', 'No. Venda'])['ID Produto'].count().reset_index()\n",
    "df3.groupby('ID Loja')['No. Venda'].count().sort_values().plot.bar(title = 'Quantidade de vendas por lojas', color = 'purple')\n",
    "plt.xlabel('Lojas')\n",
    "plt.ylabel('Quantidade vendida')\n",
    "plt.xticks(rotation='horizontal')"
   ]
  },
  {
   "cell_type": "markdown",
   "id": "821ba963",
   "metadata": {},
   "source": [
    "## A loja que mais vendeu foi a quem mais lucrou?"
   ]
  },
  {
   "cell_type": "code",
   "execution_count": 108,
   "id": "0a15f76f",
   "metadata": {},
   "outputs": [
    {
     "data": {
      "image/png": "[encoded data removed]",
      "text/plain": [
       "<Figure size 800x550 with 1 Axes>"
      ]
     },
     "metadata": {},
     "output_type": "display_data"
    }
   ],
   "source": [
    "df.groupby('ID Loja')['Lucro'].sum().sort_values().plot.bar(title = 'A loja que mais lucrou', color = 'green')\n",
    "plt.xlabel('Lojas')\n",
    "plt.ylabel('Lucro vendido')\n",
    "plt.xticks(rotation='horizontal');"
   ]
  },
  {
   "cell_type": "code",
   "execution_count": 43,
   "id": "0018af4d",
   "metadata": {},
   "outputs": [
    {
     "data": {
      "image/png": "[encoded data removed]",
      "text/plain": [
       "<Figure size 800x550 with 1 Axes>"
      ]
     },
     "metadata": {},
     "output_type": "display_data"
    }
   ],
   "source": [
    "# O produto mais lucrativo influenciou no ranking da loja que mais lucrou? Sim\n",
    "df[df['Produto'] == df[df['Lucro Unitário'] == max(df['Lucro Unitário'])]['Produto'].unique()[0]].groupby('ID Loja')['ID Loja'].count().sort_values().plot.bar()\n",
    "plt.xticks(rotation='horizontal');"
   ]
  },
  {
   "cell_type": "code",
   "execution_count": 44,
   "id": "a02d7b87",
   "metadata": {},
   "outputs": [
    {
     "data": {
      "image/png": "[encoded data removed]",
      "text/plain": [
       "<Figure size 800x550 with 1 Axes>"
      ]
     },
     "metadata": {},
     "output_type": "display_data"
    }
   ],
   "source": [
    "# Qual o Cliente que mais comprou?\n",
    "df.groupby(['No. Venda', 'ID Cliente'])['ID Cliente'].count().sort_values().groupby('ID Cliente').count().sort_values(ascending = False).head(1).plot.bar(title = 'Cliente que mais comprou')\n",
    "plt.ylabel('Quantidade')\n",
    "plt.xticks(rotation='horizontal');"
   ]
  },
  {
   "cell_type": "code",
   "execution_count": 20,
   "id": "37df65a2",
   "metadata": {},
   "outputs": [
    {
     "data": {
      "text/plain": [
       "Produto\n",
       "Headphone Adapter for Contoso Phone E130 White     1\n",
       "Adventure Works Laptop15.4W M1548 Red              2\n",
       "Fabrikam Trendsetter 1/3'' 8.5mm X200 Grey         2\n",
       "Fabrikam Trendsetter 1/3'' 8.5mm X200 White        2\n",
       "Fabrikam Trendsetter 2/3'' 17mm X100 Black         2\n",
       "Adventure Works Laptop15.4W M1548 Black            3\n",
       "Fabrikam Trendsetter 2/3'' 17mm X100 Grey          4\n",
       "Headphone Adapter for Contoso Phone E130 Silver    5\n",
       "Fabrikam Trendsetter 1/3'' 8.5mm X200 Black        6\n",
       "Name: Produto, dtype: int64"
      ]
     },
     "execution_count": 20,
     "metadata": {},
     "output_type": "execute_result"
    }
   ],
   "source": [
    "# Quais produtos o cliente que mais comprou comprou?\n",
    "df[df['ID Cliente'] == 19060].groupby('Produto')['Produto'].count().sort_values()"
   ]
  },
  {
   "cell_type": "code",
   "execution_count": 21,
   "id": "60ef4a99",
   "metadata": {},
   "outputs": [
    {
     "data": {
      "text/html": [
       "<div>\n",
       "<style scoped>\n",
       "    .dataframe tbody tr th:only-of-type {\n",
       "        vertical-align: middle;\n",
       "    }\n",
       "\n",
       "    .dataframe tbody tr th {\n",
       "        vertical-align: top;\n",
       "    }\n",
       "\n",
       "    .dataframe thead th {\n",
       "        text-align: right;\n",
       "    }\n",
       "</style>\n",
       "<table border=\"1\" class=\"dataframe\">\n",
       "  <thead>\n",
       "    <tr style=\"text-align: right;\">\n",
       "      <th></th>\n",
       "      <th>Produto</th>\n",
       "      <th>ID Loja</th>\n",
       "      <th>ID Cliente</th>\n",
       "      <th>Valor Desconto</th>\n",
       "    </tr>\n",
       "  </thead>\n",
       "  <tbody>\n",
       "    <tr>\n",
       "      <th>339</th>\n",
       "      <td>Fabrikam Trendsetter 2/3'' 17mm X100 Grey</td>\n",
       "      <td>199</td>\n",
       "      <td>18897</td>\n",
       "      <td>6272.0</td>\n",
       "    </tr>\n",
       "  </tbody>\n",
       "</table>\n",
       "</div>"
      ],
      "text/plain": [
       "                                       Produto ID Loja ID Cliente  \\\n",
       "339  Fabrikam Trendsetter 2/3'' 17mm X100 Grey     199      18897   \n",
       "\n",
       "     Valor Desconto  \n",
       "339          6272.0  "
      ]
     },
     "execution_count": 21,
     "metadata": {},
     "output_type": "execute_result"
    }
   ],
   "source": [
    "# Qual foi o maior desconto, em qual produto, em qual loja, para qual cliente? \n",
    "df[df['Valor Desconto'] == max(df['Valor Desconto'])][['Produto', 'ID Loja', 'ID Cliente', 'Valor Desconto']]"
   ]
  },
  {
   "cell_type": "code",
   "execution_count": 22,
   "id": "40245372",
   "metadata": {},
   "outputs": [
    {
     "data": {
      "text/plain": [
       "Text(0.5, 1.0, 'Distribuição de prazo de entrega')"
      ]
     },
     "execution_count": 22,
     "metadata": {},
     "output_type": "execute_result"
    },
    {
     "data": {
      "image/png": "[encoded data removed]",
      "text/plain": [
       "<Figure size 800x550 with 1 Axes>"
      ]
     },
     "metadata": {},
     "output_type": "display_data"
    }
   ],
   "source": [
    "# Qual venda demorou mais para chegar ao destino?\n",
    "plt.boxplot(df['Prazo Entrega'])\n",
    "plt.xlabel('Dias Entrega')\n",
    "plt.ylabel('Quantidade de vendas')\n",
    "plt.title('Distribuição de prazo de entrega')\n",
    "\n",
    "# Temos um outlier"
   ]
  },
  {
   "cell_type": "code",
   "execution_count": 24,
   "id": "7b5c9be4",
   "metadata": {},
   "outputs": [
    {
     "data": {
      "text/html": [
       "<div>\n",
       "<style scoped>\n",
       "    .dataframe tbody tr th:only-of-type {\n",
       "        vertical-align: middle;\n",
       "    }\n",
       "\n",
       "    .dataframe tbody tr th {\n",
       "        vertical-align: top;\n",
       "    }\n",
       "\n",
       "    .dataframe thead th {\n",
       "        text-align: right;\n",
       "    }\n",
       "</style>\n",
       "<table border=\"1\" class=\"dataframe\">\n",
       "  <thead>\n",
       "    <tr style=\"text-align: right;\">\n",
       "      <th></th>\n",
       "      <th>Data Venda</th>\n",
       "      <th>Data Envio</th>\n",
       "      <th>ID Loja</th>\n",
       "      <th>ID Produto</th>\n",
       "      <th>ID Cliente</th>\n",
       "      <th>No. Venda</th>\n",
       "      <th>Custo Unitário</th>\n",
       "      <th>Preço Unitário</th>\n",
       "      <th>Quantidade</th>\n",
       "      <th>Valor Desconto</th>\n",
       "      <th>...</th>\n",
       "      <th>Marca</th>\n",
       "      <th>Classe</th>\n",
       "      <th>Cor</th>\n",
       "      <th>Prazo Entrega</th>\n",
       "      <th>Custo Compra</th>\n",
       "      <th>Lucro</th>\n",
       "      <th>Ano Venda</th>\n",
       "      <th>Mes Venda</th>\n",
       "      <th>Dia Venda</th>\n",
       "      <th>Lucro Unitário</th>\n",
       "    </tr>\n",
       "  </thead>\n",
       "  <tbody>\n",
       "    <tr>\n",
       "      <th>0</th>\n",
       "      <td>2008-05-09</td>\n",
       "      <td>2008-05-29</td>\n",
       "      <td>199</td>\n",
       "      <td>384</td>\n",
       "      <td>18839</td>\n",
       "      <td>200805093CS607</td>\n",
       "      <td>348.58</td>\n",
       "      <td>758.0</td>\n",
       "      <td>6</td>\n",
       "      <td>0.0</td>\n",
       "      <td>...</td>\n",
       "      <td>Adventure Works</td>\n",
       "      <td>Regular</td>\n",
       "      <td>Red</td>\n",
       "      <td>20</td>\n",
       "      <td>2091.48</td>\n",
       "      <td>2456.52</td>\n",
       "      <td>2008</td>\n",
       "      <td>5</td>\n",
       "      <td>9</td>\n",
       "      <td>409.42</td>\n",
       "    </tr>\n",
       "  </tbody>\n",
       "</table>\n",
       "<p>1 rows × 23 columns</p>\n",
       "</div>"
      ],
      "text/plain": [
       "  Data Venda Data Envio ID Loja ID Produto ID Cliente       No. Venda  \\\n",
       "0 2008-05-09 2008-05-29     199        384      18839  200805093CS607   \n",
       "\n",
       "   Custo Unitário  Preço Unitário  Quantidade  Valor Desconto  ...  \\\n",
       "0          348.58           758.0           6             0.0  ...   \n",
       "\n",
       "             Marca   Classe  Cor Prazo Entrega Custo Compra    Lucro  \\\n",
       "0  Adventure Works  Regular  Red            20      2091.48  2456.52   \n",
       "\n",
       "   Ano Venda  Mes Venda  Dia Venda  Lucro Unitário  \n",
       "0       2008          5          9          409.42  \n",
       "\n",
       "[1 rows x 23 columns]"
      ]
     },
     "execution_count": 24,
     "metadata": {},
     "output_type": "execute_result"
    }
   ],
   "source": [
    "df[df['Prazo Entrega'] == 20]"
   ]
  },
  {
   "cell_type": "code",
   "execution_count": null,
   "id": "8f2d187b",
   "metadata": {},
   "outputs": [],
   "source": [
    "# Classe / Quantidade\n"
   ]
  },
  {
   "cell_type": "code",
   "execution_count": null,
   "id": "52bc007c",
   "metadata": {},
   "outputs": [],
   "source": [
    "# Marca / Lucro\n"
   ]
  },
  {
   "cell_type": "code",
   "execution_count": null,
   "id": "04a0ba50",
   "metadata": {},
   "outputs": [],
   "source": [
    "# Modelo / Lucro"
   ]
  },
  {
   "cell_type": "code",
   "execution_count": null,
   "id": "20059a02",
   "metadata": {},
   "outputs": [],
   "source": []
  }
 ],
 "metadata": {
  "kernelspec": {
   "display_name": "Python 3 (ipykernel)",
   "language": "python",
   "name": "python3"
  },
  "language_info": {
   "codemirror_mode": {
    "name": "ipython",
    "version": 3
   },
   "file_extension": ".py",
   "mimetype": "text/x-python",
   "name": "python",
   "nbconvert_exporter": "python",
   "pygments_lexer": "ipython3",
   "version": "3.9.13"
  }
 },
 "nbformat": 4,
 "nbformat_minor": 5
}
