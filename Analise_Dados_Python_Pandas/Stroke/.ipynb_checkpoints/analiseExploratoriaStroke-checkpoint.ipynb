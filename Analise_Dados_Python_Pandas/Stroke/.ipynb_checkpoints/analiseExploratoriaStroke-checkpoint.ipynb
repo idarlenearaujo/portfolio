{
 "cells": [
  {
   "cell_type": "code",
   "execution_count": 1,
   "id": "50e6e459",
   "metadata": {},
   "outputs": [],
   "source": [
    "import pandas as pd\n",
    "import matplotlib.pyplot as plt\n",
    "plt.style.use(\"seaborn\")"
   ]
  },
  {
   "cell_type": "code",
   "execution_count": 2,
   "id": "92490c44",
   "metadata": {},
   "outputs": [
    {
     "data": {
      "text/html": [
       "<div>\n",
       "<style scoped>\n",
       "    .dataframe tbody tr th:only-of-type {\n",
       "        vertical-align: middle;\n",
       "    }\n",
       "\n",
       "    .dataframe tbody tr th {\n",
       "        vertical-align: top;\n",
       "    }\n",
       "\n",
       "    .dataframe thead th {\n",
       "        text-align: right;\n",
       "    }\n",
       "</style>\n",
       "<table border=\"1\" class=\"dataframe\">\n",
       "  <thead>\n",
       "    <tr style=\"text-align: right;\">\n",
       "      <th></th>\n",
       "      <th>id</th>\n",
       "      <th>gender</th>\n",
       "      <th>age</th>\n",
       "      <th>hypertension</th>\n",
       "      <th>heart_disease</th>\n",
       "      <th>ever_married</th>\n",
       "      <th>work_type</th>\n",
       "      <th>Residence_type</th>\n",
       "      <th>avg_glucose_level</th>\n",
       "      <th>bmi</th>\n",
       "      <th>smoking_status</th>\n",
       "      <th>stroke</th>\n",
       "    </tr>\n",
       "  </thead>\n",
       "  <tbody>\n",
       "    <tr>\n",
       "      <th>3600</th>\n",
       "      <td>26076</td>\n",
       "      <td>Female</td>\n",
       "      <td>75.00</td>\n",
       "      <td>1</td>\n",
       "      <td>0</td>\n",
       "      <td>Yes</td>\n",
       "      <td>Self-employed</td>\n",
       "      <td>Rural</td>\n",
       "      <td>219.82</td>\n",
       "      <td>29.5</td>\n",
       "      <td>formerly smoked</td>\n",
       "      <td>0</td>\n",
       "    </tr>\n",
       "    <tr>\n",
       "      <th>2676</th>\n",
       "      <td>22231</td>\n",
       "      <td>Male</td>\n",
       "      <td>58.00</td>\n",
       "      <td>0</td>\n",
       "      <td>0</td>\n",
       "      <td>Yes</td>\n",
       "      <td>Private</td>\n",
       "      <td>Urban</td>\n",
       "      <td>199.42</td>\n",
       "      <td>29.0</td>\n",
       "      <td>never smoked</td>\n",
       "      <td>0</td>\n",
       "    </tr>\n",
       "    <tr>\n",
       "      <th>4518</th>\n",
       "      <td>56254</td>\n",
       "      <td>Female</td>\n",
       "      <td>25.00</td>\n",
       "      <td>0</td>\n",
       "      <td>0</td>\n",
       "      <td>No</td>\n",
       "      <td>Private</td>\n",
       "      <td>Rural</td>\n",
       "      <td>108.82</td>\n",
       "      <td>41.3</td>\n",
       "      <td>smokes</td>\n",
       "      <td>0</td>\n",
       "    </tr>\n",
       "    <tr>\n",
       "      <th>1745</th>\n",
       "      <td>33462</td>\n",
       "      <td>Male</td>\n",
       "      <td>39.00</td>\n",
       "      <td>0</td>\n",
       "      <td>0</td>\n",
       "      <td>Yes</td>\n",
       "      <td>Private</td>\n",
       "      <td>Urban</td>\n",
       "      <td>92.32</td>\n",
       "      <td>43.0</td>\n",
       "      <td>never smoked</td>\n",
       "      <td>0</td>\n",
       "    </tr>\n",
       "    <tr>\n",
       "      <th>4645</th>\n",
       "      <td>25783</td>\n",
       "      <td>Female</td>\n",
       "      <td>0.48</td>\n",
       "      <td>0</td>\n",
       "      <td>0</td>\n",
       "      <td>No</td>\n",
       "      <td>children</td>\n",
       "      <td>Rural</td>\n",
       "      <td>94.06</td>\n",
       "      <td>14.8</td>\n",
       "      <td>Unknown</td>\n",
       "      <td>0</td>\n",
       "    </tr>\n",
       "    <tr>\n",
       "      <th>4716</th>\n",
       "      <td>5387</td>\n",
       "      <td>Female</td>\n",
       "      <td>82.00</td>\n",
       "      <td>0</td>\n",
       "      <td>0</td>\n",
       "      <td>No</td>\n",
       "      <td>Private</td>\n",
       "      <td>Rural</td>\n",
       "      <td>96.98</td>\n",
       "      <td>21.5</td>\n",
       "      <td>never smoked</td>\n",
       "      <td>0</td>\n",
       "    </tr>\n",
       "    <tr>\n",
       "      <th>1647</th>\n",
       "      <td>34001</td>\n",
       "      <td>Female</td>\n",
       "      <td>6.00</td>\n",
       "      <td>0</td>\n",
       "      <td>0</td>\n",
       "      <td>No</td>\n",
       "      <td>children</td>\n",
       "      <td>Urban</td>\n",
       "      <td>78.26</td>\n",
       "      <td>19.4</td>\n",
       "      <td>Unknown</td>\n",
       "      <td>0</td>\n",
       "    </tr>\n",
       "    <tr>\n",
       "      <th>2440</th>\n",
       "      <td>12336</td>\n",
       "      <td>Female</td>\n",
       "      <td>73.00</td>\n",
       "      <td>0</td>\n",
       "      <td>0</td>\n",
       "      <td>Yes</td>\n",
       "      <td>Self-employed</td>\n",
       "      <td>Urban</td>\n",
       "      <td>87.56</td>\n",
       "      <td>24.1</td>\n",
       "      <td>never smoked</td>\n",
       "      <td>0</td>\n",
       "    </tr>\n",
       "    <tr>\n",
       "      <th>4927</th>\n",
       "      <td>25391</td>\n",
       "      <td>Female</td>\n",
       "      <td>10.00</td>\n",
       "      <td>0</td>\n",
       "      <td>0</td>\n",
       "      <td>No</td>\n",
       "      <td>children</td>\n",
       "      <td>Rural</td>\n",
       "      <td>69.84</td>\n",
       "      <td>13.7</td>\n",
       "      <td>Unknown</td>\n",
       "      <td>0</td>\n",
       "    </tr>\n",
       "    <tr>\n",
       "      <th>4267</th>\n",
       "      <td>25643</td>\n",
       "      <td>Male</td>\n",
       "      <td>36.00</td>\n",
       "      <td>0</td>\n",
       "      <td>0</td>\n",
       "      <td>Yes</td>\n",
       "      <td>Private</td>\n",
       "      <td>Rural</td>\n",
       "      <td>119.90</td>\n",
       "      <td>37.6</td>\n",
       "      <td>never smoked</td>\n",
       "      <td>0</td>\n",
       "    </tr>\n",
       "  </tbody>\n",
       "</table>\n",
       "</div>"
      ],
      "text/plain": [
       "         id  gender    age  hypertension  heart_disease ever_married  \\\n",
       "3600  26076  Female  75.00             1              0          Yes   \n",
       "2676  22231    Male  58.00             0              0          Yes   \n",
       "4518  56254  Female  25.00             0              0           No   \n",
       "1745  33462    Male  39.00             0              0          Yes   \n",
       "4645  25783  Female   0.48             0              0           No   \n",
       "4716   5387  Female  82.00             0              0           No   \n",
       "1647  34001  Female   6.00             0              0           No   \n",
       "2440  12336  Female  73.00             0              0          Yes   \n",
       "4927  25391  Female  10.00             0              0           No   \n",
       "4267  25643    Male  36.00             0              0          Yes   \n",
       "\n",
       "          work_type Residence_type  avg_glucose_level   bmi   smoking_status  \\\n",
       "3600  Self-employed          Rural             219.82  29.5  formerly smoked   \n",
       "2676        Private          Urban             199.42  29.0     never smoked   \n",
       "4518        Private          Rural             108.82  41.3           smokes   \n",
       "1745        Private          Urban              92.32  43.0     never smoked   \n",
       "4645       children          Rural              94.06  14.8          Unknown   \n",
       "4716        Private          Rural              96.98  21.5     never smoked   \n",
       "1647       children          Urban              78.26  19.4          Unknown   \n",
       "2440  Self-employed          Urban              87.56  24.1     never smoked   \n",
       "4927       children          Rural              69.84  13.7          Unknown   \n",
       "4267        Private          Rural             119.90  37.6     never smoked   \n",
       "\n",
       "      stroke  \n",
       "3600       0  \n",
       "2676       0  \n",
       "4518       0  \n",
       "1745       0  \n",
       "4645       0  \n",
       "4716       0  \n",
       "1647       0  \n",
       "2440       0  \n",
       "4927       0  \n",
       "4267       0  "
      ]
     },
     "execution_count": 2,
     "metadata": {},
     "output_type": "execute_result"
    }
   ],
   "source": [
    "df = pd.read_csv('dataset/healthcare-dataset-stroke-data.csv')\n",
    "df.sample(10)"
   ]
  },
  {
   "cell_type": "code",
   "execution_count": 3,
   "id": "d45428cb",
   "metadata": {},
   "outputs": [],
   "source": [
    "df.rename(columns = {'id': 'ID', 'gender': 'Sexo', 'age': 'Idade', 'hypertension': 'Hipertenso', 'heart_disease': 'Problemas_Coracao', 'ever_married': 'Ja_Casado', 'work_type': 'Tipo_Trabalho', 'Residence_type': 'Tipo_Residencia', 'avg_glucose_level': 'AVG_Nivel_Glicose', 'smoking_status': 'Status_fumante', 'stroke': 'Derrame'}, inplace = True)"
   ]
  },
  {
   "cell_type": "code",
   "execution_count": 4,
   "id": "46bd9d6e",
   "metadata": {},
   "outputs": [
    {
     "data": {
      "text/html": [
       "<div>\n",
       "<style scoped>\n",
       "    .dataframe tbody tr th:only-of-type {\n",
       "        vertical-align: middle;\n",
       "    }\n",
       "\n",
       "    .dataframe tbody tr th {\n",
       "        vertical-align: top;\n",
       "    }\n",
       "\n",
       "    .dataframe thead th {\n",
       "        text-align: right;\n",
       "    }\n",
       "</style>\n",
       "<table border=\"1\" class=\"dataframe\">\n",
       "  <thead>\n",
       "    <tr style=\"text-align: right;\">\n",
       "      <th></th>\n",
       "      <th>ID</th>\n",
       "      <th>Sexo</th>\n",
       "      <th>Idade</th>\n",
       "      <th>Hipertenso</th>\n",
       "      <th>Problemas_Coracao</th>\n",
       "      <th>Ja_Casado</th>\n",
       "      <th>Tipo_Trabalho</th>\n",
       "      <th>Tipo_Residencia</th>\n",
       "      <th>AVG_Nivel_Glicose</th>\n",
       "      <th>bmi</th>\n",
       "      <th>Status_fumante</th>\n",
       "      <th>Derrame</th>\n",
       "    </tr>\n",
       "  </thead>\n",
       "  <tbody>\n",
       "    <tr>\n",
       "      <th>2268</th>\n",
       "      <td>35085</td>\n",
       "      <td>Female</td>\n",
       "      <td>6.0</td>\n",
       "      <td>0</td>\n",
       "      <td>0</td>\n",
       "      <td>No</td>\n",
       "      <td>children</td>\n",
       "      <td>Rural</td>\n",
       "      <td>108.23</td>\n",
       "      <td>18.6</td>\n",
       "      <td>Unknown</td>\n",
       "      <td>0</td>\n",
       "    </tr>\n",
       "    <tr>\n",
       "      <th>5013</th>\n",
       "      <td>23026</td>\n",
       "      <td>Female</td>\n",
       "      <td>48.0</td>\n",
       "      <td>0</td>\n",
       "      <td>0</td>\n",
       "      <td>Yes</td>\n",
       "      <td>Private</td>\n",
       "      <td>Rural</td>\n",
       "      <td>99.07</td>\n",
       "      <td>22.1</td>\n",
       "      <td>never smoked</td>\n",
       "      <td>0</td>\n",
       "    </tr>\n",
       "    <tr>\n",
       "      <th>1361</th>\n",
       "      <td>33167</td>\n",
       "      <td>Female</td>\n",
       "      <td>59.0</td>\n",
       "      <td>0</td>\n",
       "      <td>0</td>\n",
       "      <td>Yes</td>\n",
       "      <td>Private</td>\n",
       "      <td>Urban</td>\n",
       "      <td>89.96</td>\n",
       "      <td>28.1</td>\n",
       "      <td>Unknown</td>\n",
       "      <td>0</td>\n",
       "    </tr>\n",
       "    <tr>\n",
       "      <th>305</th>\n",
       "      <td>49003</td>\n",
       "      <td>Male</td>\n",
       "      <td>43.0</td>\n",
       "      <td>0</td>\n",
       "      <td>0</td>\n",
       "      <td>Yes</td>\n",
       "      <td>Private</td>\n",
       "      <td>Urban</td>\n",
       "      <td>146.01</td>\n",
       "      <td>31.5</td>\n",
       "      <td>smokes</td>\n",
       "      <td>0</td>\n",
       "    </tr>\n",
       "    <tr>\n",
       "      <th>3699</th>\n",
       "      <td>5496</td>\n",
       "      <td>Female</td>\n",
       "      <td>45.0</td>\n",
       "      <td>0</td>\n",
       "      <td>0</td>\n",
       "      <td>Yes</td>\n",
       "      <td>Private</td>\n",
       "      <td>Urban</td>\n",
       "      <td>202.66</td>\n",
       "      <td>NaN</td>\n",
       "      <td>never smoked</td>\n",
       "      <td>0</td>\n",
       "    </tr>\n",
       "  </tbody>\n",
       "</table>\n",
       "</div>"
      ],
      "text/plain": [
       "         ID    Sexo  Idade  Hipertenso  Problemas_Coracao Ja_Casado  \\\n",
       "2268  35085  Female    6.0           0                  0        No   \n",
       "5013  23026  Female   48.0           0                  0       Yes   \n",
       "1361  33167  Female   59.0           0                  0       Yes   \n",
       "305   49003    Male   43.0           0                  0       Yes   \n",
       "3699   5496  Female   45.0           0                  0       Yes   \n",
       "\n",
       "     Tipo_Trabalho Tipo_Residencia  AVG_Nivel_Glicose   bmi Status_fumante  \\\n",
       "2268      children           Rural             108.23  18.6        Unknown   \n",
       "5013       Private           Rural              99.07  22.1   never smoked   \n",
       "1361       Private           Urban              89.96  28.1        Unknown   \n",
       "305        Private           Urban             146.01  31.5         smokes   \n",
       "3699       Private           Urban             202.66   NaN   never smoked   \n",
       "\n",
       "      Derrame  \n",
       "2268        0  \n",
       "5013        0  \n",
       "1361        0  \n",
       "305         0  \n",
       "3699        0  "
      ]
     },
     "execution_count": 4,
     "metadata": {},
     "output_type": "execute_result"
    }
   ],
   "source": [
    "df.sample(5)"
   ]
  },
  {
   "cell_type": "code",
   "execution_count": 5,
   "id": "40c366c6",
   "metadata": {},
   "outputs": [
    {
     "data": {
      "text/plain": [
       "(5110, 12)"
      ]
     },
     "execution_count": 5,
     "metadata": {},
     "output_type": "execute_result"
    }
   ],
   "source": [
    "# Número de atributos e valores\n",
    "df.shape"
   ]
  },
  {
   "cell_type": "code",
   "execution_count": 6,
   "id": "e283407c",
   "metadata": {},
   "outputs": [
    {
     "name": "stdout",
     "output_type": "stream",
     "text": [
      "<class 'pandas.core.frame.DataFrame'>\n",
      "RangeIndex: 5110 entries, 0 to 5109\n",
      "Data columns (total 12 columns):\n",
      " #   Column             Non-Null Count  Dtype  \n",
      "---  ------             --------------  -----  \n",
      " 0   ID                 5110 non-null   int64  \n",
      " 1   Sexo               5110 non-null   object \n",
      " 2   Idade              5110 non-null   float64\n",
      " 3   Hipertenso         5110 non-null   int64  \n",
      " 4   Problemas_Coracao  5110 non-null   int64  \n",
      " 5   Ja_Casado          5110 non-null   object \n",
      " 6   Tipo_Trabalho      5110 non-null   object \n",
      " 7   Tipo_Residencia    5110 non-null   object \n",
      " 8   AVG_Nivel_Glicose  5110 non-null   float64\n",
      " 9   bmi                4909 non-null   float64\n",
      " 10  Status_fumante     5110 non-null   object \n",
      " 11  Derrame            5110 non-null   int64  \n",
      "dtypes: float64(3), int64(4), object(5)\n",
      "memory usage: 479.2+ KB\n"
     ]
    }
   ],
   "source": [
    "# Tipo de dados\n",
    "df.info()"
   ]
  },
  {
   "cell_type": "code",
   "execution_count": 7,
   "id": "1d2bac85",
   "metadata": {},
   "outputs": [],
   "source": [
    "# Definindo tipo de dados\n",
    "# ID não terá caracteristica de operações matemáticas, então passamos para string\n",
    "# Idade é inteiro\n",
    "# Hipertensão/Problemas_Coração/Derrame são categorias e não terão operações matemáticas passamos para object\n",
    "df['ID'] = df['ID'].astype('object')\n",
    "df['Idade'] = df['Idade'].astype('int')\n",
    "df['Hipertenso'] = df['Hipertenso'].astype('object')\n",
    "df['Problemas_Coracao'] = df['Problemas_Coracao'].astype('object')\n",
    "df['Derrame'] = df['Derrame'].astype('object')"
   ]
  },
  {
   "cell_type": "code",
   "execution_count": 8,
   "id": "255a278f",
   "metadata": {},
   "outputs": [
    {
     "data": {
      "text/html": [
       "<div>\n",
       "<style scoped>\n",
       "    .dataframe tbody tr th:only-of-type {\n",
       "        vertical-align: middle;\n",
       "    }\n",
       "\n",
       "    .dataframe tbody tr th {\n",
       "        vertical-align: top;\n",
       "    }\n",
       "\n",
       "    .dataframe thead th {\n",
       "        text-align: right;\n",
       "    }\n",
       "</style>\n",
       "<table border=\"1\" class=\"dataframe\">\n",
       "  <thead>\n",
       "    <tr style=\"text-align: right;\">\n",
       "      <th></th>\n",
       "      <th>ID</th>\n",
       "      <th>Sexo</th>\n",
       "      <th>Idade</th>\n",
       "      <th>Hipertenso</th>\n",
       "      <th>Problemas_Coracao</th>\n",
       "      <th>Ja_Casado</th>\n",
       "      <th>Tipo_Trabalho</th>\n",
       "      <th>Tipo_Residencia</th>\n",
       "      <th>AVG_Nivel_Glicose</th>\n",
       "      <th>bmi</th>\n",
       "      <th>Status_fumante</th>\n",
       "      <th>Derrame</th>\n",
       "    </tr>\n",
       "  </thead>\n",
       "  <tbody>\n",
       "    <tr>\n",
       "      <th>0</th>\n",
       "      <td>9046</td>\n",
       "      <td>Male</td>\n",
       "      <td>67</td>\n",
       "      <td>0</td>\n",
       "      <td>1</td>\n",
       "      <td>Yes</td>\n",
       "      <td>Private</td>\n",
       "      <td>Urban</td>\n",
       "      <td>228.69</td>\n",
       "      <td>36.6</td>\n",
       "      <td>formerly smoked</td>\n",
       "      <td>1</td>\n",
       "    </tr>\n",
       "    <tr>\n",
       "      <th>1</th>\n",
       "      <td>51676</td>\n",
       "      <td>Female</td>\n",
       "      <td>61</td>\n",
       "      <td>0</td>\n",
       "      <td>0</td>\n",
       "      <td>Yes</td>\n",
       "      <td>Self-employed</td>\n",
       "      <td>Rural</td>\n",
       "      <td>202.21</td>\n",
       "      <td>NaN</td>\n",
       "      <td>never smoked</td>\n",
       "      <td>1</td>\n",
       "    </tr>\n",
       "    <tr>\n",
       "      <th>2</th>\n",
       "      <td>31112</td>\n",
       "      <td>Male</td>\n",
       "      <td>80</td>\n",
       "      <td>0</td>\n",
       "      <td>1</td>\n",
       "      <td>Yes</td>\n",
       "      <td>Private</td>\n",
       "      <td>Rural</td>\n",
       "      <td>105.92</td>\n",
       "      <td>32.5</td>\n",
       "      <td>never smoked</td>\n",
       "      <td>1</td>\n",
       "    </tr>\n",
       "    <tr>\n",
       "      <th>3</th>\n",
       "      <td>60182</td>\n",
       "      <td>Female</td>\n",
       "      <td>49</td>\n",
       "      <td>0</td>\n",
       "      <td>0</td>\n",
       "      <td>Yes</td>\n",
       "      <td>Private</td>\n",
       "      <td>Urban</td>\n",
       "      <td>171.23</td>\n",
       "      <td>34.4</td>\n",
       "      <td>smokes</td>\n",
       "      <td>1</td>\n",
       "    </tr>\n",
       "    <tr>\n",
       "      <th>4</th>\n",
       "      <td>1665</td>\n",
       "      <td>Female</td>\n",
       "      <td>79</td>\n",
       "      <td>1</td>\n",
       "      <td>0</td>\n",
       "      <td>Yes</td>\n",
       "      <td>Self-employed</td>\n",
       "      <td>Rural</td>\n",
       "      <td>174.12</td>\n",
       "      <td>24.0</td>\n",
       "      <td>never smoked</td>\n",
       "      <td>1</td>\n",
       "    </tr>\n",
       "  </tbody>\n",
       "</table>\n",
       "</div>"
      ],
      "text/plain": [
       "      ID    Sexo  Idade Hipertenso Problemas_Coracao Ja_Casado  Tipo_Trabalho  \\\n",
       "0   9046    Male     67          0                 1       Yes        Private   \n",
       "1  51676  Female     61          0                 0       Yes  Self-employed   \n",
       "2  31112    Male     80          0                 1       Yes        Private   \n",
       "3  60182  Female     49          0                 0       Yes        Private   \n",
       "4   1665  Female     79          1                 0       Yes  Self-employed   \n",
       "\n",
       "  Tipo_Residencia  AVG_Nivel_Glicose   bmi   Status_fumante Derrame  \n",
       "0           Urban             228.69  36.6  formerly smoked       1  \n",
       "1           Rural             202.21   NaN     never smoked       1  \n",
       "2           Rural             105.92  32.5     never smoked       1  \n",
       "3           Urban             171.23  34.4           smokes       1  \n",
       "4           Rural             174.12  24.0     never smoked       1  "
      ]
     },
     "execution_count": 8,
     "metadata": {},
     "output_type": "execute_result"
    }
   ],
   "source": [
    "df.head()"
   ]
  },
  {
   "cell_type": "code",
   "execution_count": 9,
   "id": "6b5e3a60",
   "metadata": {},
   "outputs": [
    {
     "name": "stdout",
     "output_type": "stream",
     "text": [
      "<class 'pandas.core.frame.DataFrame'>\n",
      "RangeIndex: 5110 entries, 0 to 5109\n",
      "Data columns (total 12 columns):\n",
      " #   Column             Non-Null Count  Dtype  \n",
      "---  ------             --------------  -----  \n",
      " 0   ID                 5110 non-null   object \n",
      " 1   Sexo               5110 non-null   object \n",
      " 2   Idade              5110 non-null   int32  \n",
      " 3   Hipertenso         5110 non-null   object \n",
      " 4   Problemas_Coracao  5110 non-null   object \n",
      " 5   Ja_Casado          5110 non-null   object \n",
      " 6   Tipo_Trabalho      5110 non-null   object \n",
      " 7   Tipo_Residencia    5110 non-null   object \n",
      " 8   AVG_Nivel_Glicose  5110 non-null   float64\n",
      " 9   bmi                4909 non-null   float64\n",
      " 10  Status_fumante     5110 non-null   object \n",
      " 11  Derrame            5110 non-null   object \n",
      "dtypes: float64(2), int32(1), object(9)\n",
      "memory usage: 459.2+ KB\n"
     ]
    }
   ],
   "source": [
    "df.info()"
   ]
  },
  {
   "cell_type": "code",
   "execution_count": null,
   "id": "b1ac0099",
   "metadata": {},
   "outputs": [],
   "source": [
    "# Dados faltantes?\n",
    "df.isna().sum()"
   ]
  },
  {
   "cell_type": "code",
   "execution_count": null,
   "id": "9dd94c2f",
   "metadata": {},
   "outputs": [],
   "source": [
    "# Preenchido com a média da coluna\n",
    "df.fillna(df['bmi'].mean(), inplace = True)"
   ]
  },
  {
   "cell_type": "code",
   "execution_count": null,
   "id": "05f26727",
   "metadata": {},
   "outputs": [],
   "source": [
    "df.isna().sum()"
   ]
  },
  {
   "cell_type": "markdown",
   "id": "3017f96e",
   "metadata": {},
   "source": [
    "## Quantas pessoas tiveram derrame?"
   ]
  },
  {
   "cell_type": "code",
   "execution_count": null,
   "id": "91d69076",
   "metadata": {},
   "outputs": [],
   "source": [
    "# Categoria\n",
    "# 1 - Derrame\n",
    "# 0 - Não teve derrame\n",
    "df['Derrame'].unique()"
   ]
  },
  {
   "cell_type": "code",
   "execution_count": null,
   "id": "f49d8d48",
   "metadata": {},
   "outputs": [],
   "source": [
    "df.query('Derrame == 1')['Derrame'].count()\n",
    "\n",
    "# 249 entrevistados tiveram derrame"
   ]
  },
  {
   "cell_type": "code",
   "execution_count": null,
   "id": "2c5b6078",
   "metadata": {},
   "outputs": [],
   "source": [
    "# Entrevistados que já teve derrame vs os que não tiveram derrame\n",
    "df.groupby('Derrame')['Derrame'].count().plot.bar(title = 'Entrevistados: Derrame x Não Derrame')\n",
    "plt.ylabel('Quantidade')\n",
    "plt.xticks(rotation='horizontal')"
   ]
  },
  {
   "cell_type": "markdown",
   "id": "4ef3f480",
   "metadata": {},
   "source": [
    "## O que podemos dizer sobre o atributo Sexo?"
   ]
  },
  {
   "cell_type": "code",
   "execution_count": null,
   "id": "a7962f6c",
   "metadata": {},
   "outputs": [],
   "source": [
    "# São três classes declaradas pelos entrevistados\n",
    "df['Sexo'].unique()"
   ]
  },
  {
   "cell_type": "code",
   "execution_count": null,
   "id": "168497c9",
   "metadata": {},
   "outputs": [],
   "source": [
    "# Quantidade de entrevistados por sexo\n",
    "df.groupby('Sexo')['Sexo'].count().plot.bar(title = 'Quantidade de entrevistados por sexo', color = 'green')\n",
    "plt.ylabel('Quantidade')\n",
    "plt.xticks(rotation='horizontal')"
   ]
  },
  {
   "cell_type": "code",
   "execution_count": null,
   "id": "25f36f79",
   "metadata": {},
   "outputs": [],
   "source": [
    "# Apenas um entrevistado declarou Outros\n",
    "df.query('Sexo == \"Other\"')['Sexo'].count()"
   ]
  },
  {
   "cell_type": "code",
   "execution_count": null,
   "id": "5bc366df",
   "metadata": {},
   "outputs": [],
   "source": [
    "# Os entrevistados que tiveram derrame a maioria são mulheres\n",
    "df.query('Derrame == 1').groupby('Sexo')['Sexo'].count().plot.bar(title = 'Ocorrência de derrame vs Sexo', color = 'green')\n",
    "plt.ylabel('Quantidade')\n",
    "plt.xticks(rotation='horizontal')"
   ]
  },
  {
   "cell_type": "markdown",
   "id": "cfe1629c",
   "metadata": {},
   "source": [
    "## O que podemos observar da idade dos entrevistados?"
   ]
  },
  {
   "cell_type": "code",
   "execution_count": null,
   "id": "22d9286b",
   "metadata": {},
   "outputs": [],
   "source": [
    "# Média, mediana, maior, menor idade\n",
    "df['Idade'].describe()"
   ]
  },
  {
   "cell_type": "code",
   "execution_count": null,
   "id": "c9a6a51a",
   "metadata": {},
   "outputs": [],
   "source": [
    "# Distribuição das idades\n",
    "plt.boxplot(df['Idade'])\n",
    "plt.ylabel('Idade')\n",
    "plt.title('Distribuição de Idade')"
   ]
  },
  {
   "cell_type": "code",
   "execution_count": null,
   "id": "0a837bc2",
   "metadata": {},
   "outputs": [],
   "source": [
    "# Idade média dos entrevistados que tiveram derrame\n",
    "round(df.query('Derrame == 1')['Idade'].mean(), 2)"
   ]
  },
  {
   "cell_type": "code",
   "execution_count": null,
   "id": "4c5030ec",
   "metadata": {},
   "outputs": [],
   "source": [
    "plt.boxplot(df.query('Derrame == 1')['Idade'])\n",
    "plt.ylabel('Idade')\n",
    "plt.title(' Distribuição de idades das pessoas que tiveram derrame')\n",
    "\n",
    "# Pudemos observar que existe dois valores bem inferiores nos entrevistados que tiveram derrame, pode ser outliers"
   ]
  },
  {
   "cell_type": "code",
   "execution_count": null,
   "id": "1af59df2",
   "metadata": {},
   "outputs": [],
   "source": [
    "# registros fora do padrão\n",
    "df.query('Derrame == 1 & Idade < 30')"
   ]
  },
  {
   "cell_type": "markdown",
   "id": "ad7c5b32",
   "metadata": {},
   "source": [
    "## Hipertesão tem relação com derrame?"
   ]
  },
  {
   "cell_type": "code",
   "execution_count": null,
   "id": "a74db895",
   "metadata": {},
   "outputs": [],
   "source": [
    "# Correlação fraca\n",
    "df['Derrame'].corr(df['Hipertenso'])"
   ]
  },
  {
   "cell_type": "code",
   "execution_count": null,
   "id": "9f69fa18",
   "metadata": {},
   "outputs": [],
   "source": [
    "df.query('Derrame == 1').groupby('Hipertenso')['Hipertenso'].count().plot.bar(title = 'Pessoas que sofreram derrame vs Hipertensão')\n",
    "plt.ylabel('Quantidade')\n",
    "plt.xticks(rotation='horizontal')"
   ]
  },
  {
   "cell_type": "markdown",
   "id": "70ddfd3f",
   "metadata": {},
   "source": [
    "## O que podemos dizer Derrame vs Problemas no Coração?"
   ]
  },
  {
   "cell_type": "code",
   "execution_count": null,
   "id": "08af9357",
   "metadata": {},
   "outputs": [],
   "source": [
    "# 0 - Não tem problemas de coração\n",
    "# 1 - Problemas relacionados ao coração\n",
    "df['Problemas_Coracao'].unique()"
   ]
  },
  {
   "cell_type": "code",
   "execution_count": null,
   "id": "a7e766d5",
   "metadata": {},
   "outputs": [],
   "source": [
    "# Correlação positiva fraca\n",
    "df['Problemas_Coracao'].corr(df['Derrame'])"
   ]
  },
  {
   "cell_type": "code",
   "execution_count": null,
   "id": "0ef143b2",
   "metadata": {},
   "outputs": [],
   "source": [
    "df.query('Derrame == 1').groupby('Problemas_Coracao')['Problemas_Coracao'].count().plot.bar(title = 'Pessoas que sofreram derrame vs Problemas do Coracao', color = 'green')\n",
    "plt.ylabel('Quantidade')\n",
    "plt.xticks(rotation='horizontal')"
   ]
  },
  {
   "cell_type": "markdown",
   "id": "f018b510",
   "metadata": {},
   "source": [
    "## Quais entrevistados eram casados?"
   ]
  },
  {
   "cell_type": "code",
   "execution_count": null,
   "id": "4704fee4",
   "metadata": {},
   "outputs": [],
   "source": [
    "# Yes - Casados\n",
    "# No - Não casados\n",
    "df['Ja_Casado'].unique()"
   ]
  },
  {
   "cell_type": "code",
   "execution_count": null,
   "id": "f7315bdb",
   "metadata": {},
   "outputs": [],
   "source": [
    "# A maioria que sofreram derrame eram casados\n",
    "df.query('Derrame == 1').groupby('Ja_Casado')['Ja_Casado'].count().plot.bar(title = 'Pessoas que sofreram derrame vs Estado civil',)\n",
    "plt.ylabel('Quantidade')\n",
    "plt.xticks(rotation='horizontal')"
   ]
  },
  {
   "cell_type": "markdown",
   "id": "0952c3b0",
   "metadata": {},
   "source": [
    "## Tipos de trabalho"
   ]
  },
  {
   "cell_type": "code",
   "execution_count": null,
   "id": "e2375809",
   "metadata": {},
   "outputs": [],
   "source": [
    "df['Tipo_Trabalho'].unique()"
   ]
  },
  {
   "cell_type": "code",
   "execution_count": null,
   "id": "b56c5c77",
   "metadata": {},
   "outputs": [],
   "source": [
    "df.query('Derrame == 1').groupby('Tipo_Trabalho')['Tipo_Trabalho'].count().sort_values().plot.bar(title = 'Pessoas que sofreram derrame vs tipo de trabalho', color = 'green')\n",
    "plt.ylabel('Quantidade')\n",
    "plt.xticks(rotation='horizontal')"
   ]
  },
  {
   "cell_type": "code",
   "execution_count": null,
   "id": "ab0a86bc",
   "metadata": {},
   "outputs": [],
   "source": [
    "# Aqueles dados vistos anteriormente\n",
    "df.query('Derrame == 1 & Tipo_Trabalho == \"children\"')"
   ]
  },
  {
   "cell_type": "markdown",
   "id": "905a2a79",
   "metadata": {},
   "source": [
    "## Cidade ou Campo?"
   ]
  },
  {
   "cell_type": "code",
   "execution_count": null,
   "id": "743011e2",
   "metadata": {},
   "outputs": [],
   "source": [
    "df['Tipo_Residencia'].unique()"
   ]
  },
  {
   "cell_type": "code",
   "execution_count": null,
   "id": "2d621913",
   "metadata": {},
   "outputs": [],
   "source": [
    "df.query('Derrame == 1').groupby('Tipo_Residencia')['Tipo_Residencia'].count().plot.bar(title = 'Pessoas que sofreram derrame vs Campo ou Cidade',)\n",
    "plt.ylabel('Quantidade')\n",
    "plt.xticks(rotation='horizontal')"
   ]
  },
  {
   "cell_type": "markdown",
   "id": "0747f852",
   "metadata": {},
   "source": [
    "## Niveis de glicose"
   ]
  },
  {
   "cell_type": "code",
   "execution_count": null,
   "id": "61f5a491",
   "metadata": {},
   "outputs": [],
   "source": [
    "# Mediana, media\n",
    "df['AVG_Nivel_Glicose'].describe()"
   ]
  },
  {
   "cell_type": "code",
   "execution_count": null,
   "id": "41715155",
   "metadata": {},
   "outputs": [],
   "source": [
    "plt.boxplot(df['AVG_Nivel_Glicose'])"
   ]
  },
  {
   "cell_type": "markdown",
   "id": "f6d2c20e",
   "metadata": {},
   "source": [
    "## Niveis BMI"
   ]
  },
  {
   "cell_type": "code",
   "execution_count": null,
   "id": "a1cda372",
   "metadata": {},
   "outputs": [],
   "source": [
    "# Mediana, media\n",
    "df['bmi'].describe()"
   ]
  },
  {
   "cell_type": "code",
   "execution_count": null,
   "id": "2057ed57",
   "metadata": {},
   "outputs": [],
   "source": [
    "plt.boxplot(df['bmi'])"
   ]
  },
  {
   "cell_type": "markdown",
   "id": "a7ebd5a9",
   "metadata": {},
   "source": [
    "## Fumantes"
   ]
  },
  {
   "cell_type": "code",
   "execution_count": null,
   "id": "a41db0f0",
   "metadata": {},
   "outputs": [],
   "source": [
    "df['Status_fumante'].unique()"
   ]
  },
  {
   "cell_type": "code",
   "execution_count": null,
   "id": "a8d5aef2",
   "metadata": {},
   "outputs": [],
   "source": [
    "df.query('Derrame == 1').groupby('Status_fumante')['Status_fumante'].count().sort_values().plot.bar(title = 'Pessoas que sofreram derrame vs fumantes', color = 'green')\n",
    "plt.ylabel('Quantidade')\n",
    "plt.xticks(rotation='horizontal')"
   ]
  },
  {
   "cell_type": "code",
   "execution_count": null,
   "id": "43cca3ec",
   "metadata": {},
   "outputs": [],
   "source": []
  }
 ],
 "metadata": {
  "kernelspec": {
   "display_name": "Python 3",
   "language": "python",
   "name": "python3"
  },
  "language_info": {
   "codemirror_mode": {
    "name": "ipython",
    "version": 3
   },
   "file_extension": ".py",
   "mimetype": "text/x-python",
   "name": "python",
   "nbconvert_exporter": "python",
   "pygments_lexer": "ipython3",
   "version": "3.8.8"
  }
 },
 "nbformat": 4,
 "nbformat_minor": 5
}
