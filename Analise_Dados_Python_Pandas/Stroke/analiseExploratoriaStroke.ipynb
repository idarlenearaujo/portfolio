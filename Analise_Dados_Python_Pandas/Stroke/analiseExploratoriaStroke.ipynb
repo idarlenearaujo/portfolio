{
 "cells": [
  {
   "cell_type": "code",
   "execution_count": 1,
   "id": "50e6e459",
   "metadata": {},
   "outputs": [],
   "source": [
    "import pandas as pd\n",
    "import seaborn as sns\n",
    "import matplotlib.pyplot as plt\n",
    "from sklearn.preprocessing import LabelEncoder\n",
    "plt.style.use(\"seaborn\")"
   ]
  },
  {
   "cell_type": "code",
   "execution_count": 2,
   "id": "92490c44",
   "metadata": {},
   "outputs": [
    {
     "data": {
      "text/html": [
       "<div>\n",
       "<style scoped>\n",
       "    .dataframe tbody tr th:only-of-type {\n",
       "        vertical-align: middle;\n",
       "    }\n",
       "\n",
       "    .dataframe tbody tr th {\n",
       "        vertical-align: top;\n",
       "    }\n",
       "\n",
       "    .dataframe thead th {\n",
       "        text-align: right;\n",
       "    }\n",
       "</style>\n",
       "<table border=\"1\" class=\"dataframe\">\n",
       "  <thead>\n",
       "    <tr style=\"text-align: right;\">\n",
       "      <th></th>\n",
       "      <th>id</th>\n",
       "      <th>gender</th>\n",
       "      <th>age</th>\n",
       "      <th>hypertension</th>\n",
       "      <th>heart_disease</th>\n",
       "      <th>ever_married</th>\n",
       "      <th>work_type</th>\n",
       "      <th>Residence_type</th>\n",
       "      <th>avg_glucose_level</th>\n",
       "      <th>bmi</th>\n",
       "      <th>smoking_status</th>\n",
       "      <th>stroke</th>\n",
       "    </tr>\n",
       "  </thead>\n",
       "  <tbody>\n",
       "    <tr>\n",
       "      <th>130</th>\n",
       "      <td>53440</td>\n",
       "      <td>Female</td>\n",
       "      <td>73.0</td>\n",
       "      <td>1</td>\n",
       "      <td>0</td>\n",
       "      <td>Yes</td>\n",
       "      <td>Private</td>\n",
       "      <td>Rural</td>\n",
       "      <td>190.14</td>\n",
       "      <td>36.5</td>\n",
       "      <td>never smoked</td>\n",
       "      <td>1</td>\n",
       "    </tr>\n",
       "    <tr>\n",
       "      <th>4524</th>\n",
       "      <td>71622</td>\n",
       "      <td>Female</td>\n",
       "      <td>56.0</td>\n",
       "      <td>0</td>\n",
       "      <td>0</td>\n",
       "      <td>Yes</td>\n",
       "      <td>Private</td>\n",
       "      <td>Urban</td>\n",
       "      <td>144.33</td>\n",
       "      <td>29.2</td>\n",
       "      <td>never smoked</td>\n",
       "      <td>0</td>\n",
       "    </tr>\n",
       "    <tr>\n",
       "      <th>2759</th>\n",
       "      <td>18671</td>\n",
       "      <td>Female</td>\n",
       "      <td>47.0</td>\n",
       "      <td>0</td>\n",
       "      <td>0</td>\n",
       "      <td>Yes</td>\n",
       "      <td>Govt_job</td>\n",
       "      <td>Rural</td>\n",
       "      <td>111.68</td>\n",
       "      <td>39.5</td>\n",
       "      <td>never smoked</td>\n",
       "      <td>0</td>\n",
       "    </tr>\n",
       "    <tr>\n",
       "      <th>3687</th>\n",
       "      <td>25630</td>\n",
       "      <td>Female</td>\n",
       "      <td>69.0</td>\n",
       "      <td>0</td>\n",
       "      <td>0</td>\n",
       "      <td>Yes</td>\n",
       "      <td>Self-employed</td>\n",
       "      <td>Urban</td>\n",
       "      <td>79.70</td>\n",
       "      <td>25.0</td>\n",
       "      <td>never smoked</td>\n",
       "      <td>0</td>\n",
       "    </tr>\n",
       "    <tr>\n",
       "      <th>1534</th>\n",
       "      <td>71322</td>\n",
       "      <td>Female</td>\n",
       "      <td>38.0</td>\n",
       "      <td>0</td>\n",
       "      <td>0</td>\n",
       "      <td>Yes</td>\n",
       "      <td>Private</td>\n",
       "      <td>Rural</td>\n",
       "      <td>196.20</td>\n",
       "      <td>32.8</td>\n",
       "      <td>never smoked</td>\n",
       "      <td>0</td>\n",
       "    </tr>\n",
       "    <tr>\n",
       "      <th>2287</th>\n",
       "      <td>15964</td>\n",
       "      <td>Female</td>\n",
       "      <td>64.0</td>\n",
       "      <td>1</td>\n",
       "      <td>0</td>\n",
       "      <td>Yes</td>\n",
       "      <td>Private</td>\n",
       "      <td>Rural</td>\n",
       "      <td>99.40</td>\n",
       "      <td>29.1</td>\n",
       "      <td>never smoked</td>\n",
       "      <td>0</td>\n",
       "    </tr>\n",
       "    <tr>\n",
       "      <th>1913</th>\n",
       "      <td>10333</td>\n",
       "      <td>Female</td>\n",
       "      <td>45.0</td>\n",
       "      <td>0</td>\n",
       "      <td>0</td>\n",
       "      <td>Yes</td>\n",
       "      <td>Private</td>\n",
       "      <td>Urban</td>\n",
       "      <td>90.35</td>\n",
       "      <td>22.3</td>\n",
       "      <td>never smoked</td>\n",
       "      <td>0</td>\n",
       "    </tr>\n",
       "    <tr>\n",
       "      <th>4625</th>\n",
       "      <td>37808</td>\n",
       "      <td>Female</td>\n",
       "      <td>34.0</td>\n",
       "      <td>0</td>\n",
       "      <td>0</td>\n",
       "      <td>No</td>\n",
       "      <td>Govt_job</td>\n",
       "      <td>Urban</td>\n",
       "      <td>226.28</td>\n",
       "      <td>38.4</td>\n",
       "      <td>Unknown</td>\n",
       "      <td>0</td>\n",
       "    </tr>\n",
       "    <tr>\n",
       "      <th>4589</th>\n",
       "      <td>45285</td>\n",
       "      <td>Male</td>\n",
       "      <td>37.0</td>\n",
       "      <td>0</td>\n",
       "      <td>0</td>\n",
       "      <td>Yes</td>\n",
       "      <td>Private</td>\n",
       "      <td>Urban</td>\n",
       "      <td>176.42</td>\n",
       "      <td>39.7</td>\n",
       "      <td>Unknown</td>\n",
       "      <td>0</td>\n",
       "    </tr>\n",
       "    <tr>\n",
       "      <th>470</th>\n",
       "      <td>46474</td>\n",
       "      <td>Male</td>\n",
       "      <td>26.0</td>\n",
       "      <td>0</td>\n",
       "      <td>0</td>\n",
       "      <td>Yes</td>\n",
       "      <td>Private</td>\n",
       "      <td>Rural</td>\n",
       "      <td>100.09</td>\n",
       "      <td>27.4</td>\n",
       "      <td>never smoked</td>\n",
       "      <td>0</td>\n",
       "    </tr>\n",
       "  </tbody>\n",
       "</table>\n",
       "</div>"
      ],
      "text/plain": [
       "         id  gender   age  hypertension  heart_disease ever_married  \\\n",
       "130   53440  Female  73.0             1              0          Yes   \n",
       "4524  71622  Female  56.0             0              0          Yes   \n",
       "2759  18671  Female  47.0             0              0          Yes   \n",
       "3687  25630  Female  69.0             0              0          Yes   \n",
       "1534  71322  Female  38.0             0              0          Yes   \n",
       "2287  15964  Female  64.0             1              0          Yes   \n",
       "1913  10333  Female  45.0             0              0          Yes   \n",
       "4625  37808  Female  34.0             0              0           No   \n",
       "4589  45285    Male  37.0             0              0          Yes   \n",
       "470   46474    Male  26.0             0              0          Yes   \n",
       "\n",
       "          work_type Residence_type  avg_glucose_level   bmi smoking_status  \\\n",
       "130         Private          Rural             190.14  36.5   never smoked   \n",
       "4524        Private          Urban             144.33  29.2   never smoked   \n",
       "2759       Govt_job          Rural             111.68  39.5   never smoked   \n",
       "3687  Self-employed          Urban              79.70  25.0   never smoked   \n",
       "1534        Private          Rural             196.20  32.8   never smoked   \n",
       "2287        Private          Rural              99.40  29.1   never smoked   \n",
       "1913        Private          Urban              90.35  22.3   never smoked   \n",
       "4625       Govt_job          Urban             226.28  38.4        Unknown   \n",
       "4589        Private          Urban             176.42  39.7        Unknown   \n",
       "470         Private          Rural             100.09  27.4   never smoked   \n",
       "\n",
       "      stroke  \n",
       "130        1  \n",
       "4524       0  \n",
       "2759       0  \n",
       "3687       0  \n",
       "1534       0  \n",
       "2287       0  \n",
       "1913       0  \n",
       "4625       0  \n",
       "4589       0  \n",
       "470        0  "
      ]
     },
     "execution_count": 2,
     "metadata": {},
     "output_type": "execute_result"
    }
   ],
   "source": [
    "df = pd.read_csv('healthcare-dataset-stroke-data.csv')\n",
    "df.sample(10)"
   ]
  },
  {
   "cell_type": "code",
   "execution_count": 3,
   "id": "d45428cb",
   "metadata": {},
   "outputs": [],
   "source": [
    "df.rename(columns = {'id': 'ID', 'gender': 'Sexo', 'age': 'Idade', 'hypertension': 'Hipertenso', 'heart_disease': 'Problemas_Coracao', 'ever_married': 'Ja_Casado', 'work_type': 'Tipo_Trabalho', 'Residence_type': 'Tipo_Residencia', 'avg_glucose_level': 'AVG_Nivel_Glicose', 'smoking_status': 'Status_fumante', 'stroke': 'Derrame'}, inplace = True)"
   ]
  },
  {
   "cell_type": "code",
   "execution_count": 4,
   "id": "46bd9d6e",
   "metadata": {},
   "outputs": [
    {
     "data": {
      "text/html": [
       "<div>\n",
       "<style scoped>\n",
       "    .dataframe tbody tr th:only-of-type {\n",
       "        vertical-align: middle;\n",
       "    }\n",
       "\n",
       "    .dataframe tbody tr th {\n",
       "        vertical-align: top;\n",
       "    }\n",
       "\n",
       "    .dataframe thead th {\n",
       "        text-align: right;\n",
       "    }\n",
       "</style>\n",
       "<table border=\"1\" class=\"dataframe\">\n",
       "  <thead>\n",
       "    <tr style=\"text-align: right;\">\n",
       "      <th></th>\n",
       "      <th>ID</th>\n",
       "      <th>Sexo</th>\n",
       "      <th>Idade</th>\n",
       "      <th>Hipertenso</th>\n",
       "      <th>Problemas_Coracao</th>\n",
       "      <th>Ja_Casado</th>\n",
       "      <th>Tipo_Trabalho</th>\n",
       "      <th>Tipo_Residencia</th>\n",
       "      <th>AVG_Nivel_Glicose</th>\n",
       "      <th>bmi</th>\n",
       "      <th>Status_fumante</th>\n",
       "      <th>Derrame</th>\n",
       "    </tr>\n",
       "  </thead>\n",
       "  <tbody>\n",
       "    <tr>\n",
       "      <th>2307</th>\n",
       "      <td>7683</td>\n",
       "      <td>Male</td>\n",
       "      <td>49.0</td>\n",
       "      <td>0</td>\n",
       "      <td>0</td>\n",
       "      <td>Yes</td>\n",
       "      <td>Self-employed</td>\n",
       "      <td>Rural</td>\n",
       "      <td>220.47</td>\n",
       "      <td>36.4</td>\n",
       "      <td>smokes</td>\n",
       "      <td>0</td>\n",
       "    </tr>\n",
       "    <tr>\n",
       "      <th>2102</th>\n",
       "      <td>50671</td>\n",
       "      <td>Male</td>\n",
       "      <td>78.0</td>\n",
       "      <td>1</td>\n",
       "      <td>1</td>\n",
       "      <td>Yes</td>\n",
       "      <td>Self-employed</td>\n",
       "      <td>Rural</td>\n",
       "      <td>199.88</td>\n",
       "      <td>29.6</td>\n",
       "      <td>formerly smoked</td>\n",
       "      <td>0</td>\n",
       "    </tr>\n",
       "    <tr>\n",
       "      <th>1566</th>\n",
       "      <td>18141</td>\n",
       "      <td>Male</td>\n",
       "      <td>76.0</td>\n",
       "      <td>0</td>\n",
       "      <td>1</td>\n",
       "      <td>Yes</td>\n",
       "      <td>Self-employed</td>\n",
       "      <td>Rural</td>\n",
       "      <td>101.43</td>\n",
       "      <td>29.1</td>\n",
       "      <td>Unknown</td>\n",
       "      <td>0</td>\n",
       "    </tr>\n",
       "    <tr>\n",
       "      <th>4716</th>\n",
       "      <td>5387</td>\n",
       "      <td>Female</td>\n",
       "      <td>82.0</td>\n",
       "      <td>0</td>\n",
       "      <td>0</td>\n",
       "      <td>No</td>\n",
       "      <td>Private</td>\n",
       "      <td>Rural</td>\n",
       "      <td>96.98</td>\n",
       "      <td>21.5</td>\n",
       "      <td>never smoked</td>\n",
       "      <td>0</td>\n",
       "    </tr>\n",
       "    <tr>\n",
       "      <th>2586</th>\n",
       "      <td>41175</td>\n",
       "      <td>Female</td>\n",
       "      <td>22.0</td>\n",
       "      <td>0</td>\n",
       "      <td>0</td>\n",
       "      <td>No</td>\n",
       "      <td>Govt_job</td>\n",
       "      <td>Urban</td>\n",
       "      <td>123.23</td>\n",
       "      <td>21.3</td>\n",
       "      <td>Unknown</td>\n",
       "      <td>0</td>\n",
       "    </tr>\n",
       "  </tbody>\n",
       "</table>\n",
       "</div>"
      ],
      "text/plain": [
       "         ID    Sexo  Idade  Hipertenso  Problemas_Coracao Ja_Casado  \\\n",
       "2307   7683    Male   49.0           0                  0       Yes   \n",
       "2102  50671    Male   78.0           1                  1       Yes   \n",
       "1566  18141    Male   76.0           0                  1       Yes   \n",
       "4716   5387  Female   82.0           0                  0        No   \n",
       "2586  41175  Female   22.0           0                  0        No   \n",
       "\n",
       "      Tipo_Trabalho Tipo_Residencia  AVG_Nivel_Glicose   bmi   Status_fumante  \\\n",
       "2307  Self-employed           Rural             220.47  36.4           smokes   \n",
       "2102  Self-employed           Rural             199.88  29.6  formerly smoked   \n",
       "1566  Self-employed           Rural             101.43  29.1          Unknown   \n",
       "4716        Private           Rural              96.98  21.5     never smoked   \n",
       "2586       Govt_job           Urban             123.23  21.3          Unknown   \n",
       "\n",
       "      Derrame  \n",
       "2307        0  \n",
       "2102        0  \n",
       "1566        0  \n",
       "4716        0  \n",
       "2586        0  "
      ]
     },
     "execution_count": 4,
     "metadata": {},
     "output_type": "execute_result"
    }
   ],
   "source": [
    "df.sample(5)"
   ]
  },
  {
   "cell_type": "code",
   "execution_count": 5,
   "id": "40c366c6",
   "metadata": {},
   "outputs": [
    {
     "data": {
      "text/plain": [
       "(5110, 12)"
      ]
     },
     "execution_count": 5,
     "metadata": {},
     "output_type": "execute_result"
    }
   ],
   "source": [
    "# Número de atributos e valores\n",
    "df.shape"
   ]
  },
  {
   "cell_type": "code",
   "execution_count": 6,
   "id": "e283407c",
   "metadata": {},
   "outputs": [
    {
     "name": "stdout",
     "output_type": "stream",
     "text": [
      "<class 'pandas.core.frame.DataFrame'>\n",
      "RangeIndex: 5110 entries, 0 to 5109\n",
      "Data columns (total 12 columns):\n",
      " #   Column             Non-Null Count  Dtype  \n",
      "---  ------             --------------  -----  \n",
      " 0   ID                 5110 non-null   int64  \n",
      " 1   Sexo               5110 non-null   object \n",
      " 2   Idade              5110 non-null   float64\n",
      " 3   Hipertenso         5110 non-null   int64  \n",
      " 4   Problemas_Coracao  5110 non-null   int64  \n",
      " 5   Ja_Casado          5110 non-null   object \n",
      " 6   Tipo_Trabalho      5110 non-null   object \n",
      " 7   Tipo_Residencia    5110 non-null   object \n",
      " 8   AVG_Nivel_Glicose  5110 non-null   float64\n",
      " 9   bmi                4909 non-null   float64\n",
      " 10  Status_fumante     5110 non-null   object \n",
      " 11  Derrame            5110 non-null   int64  \n",
      "dtypes: float64(3), int64(4), object(5)\n",
      "memory usage: 479.2+ KB\n"
     ]
    }
   ],
   "source": [
    "# Tipo de dados\n",
    "df.info()"
   ]
  },
  {
   "cell_type": "code",
   "execution_count": 7,
   "id": "1d2bac85",
   "metadata": {},
   "outputs": [],
   "source": [
    "# Definindo tipo de dados\n",
    "# ID não terá caracteristica de operações matemáticas, então passamos para string\n",
    "# Idade é inteiro\n",
    "# Hipertensão/Problemas_Coração/Derrame são categorias e não terão operações matemáticas passamos para object\n",
    "df['ID'] = df['ID'].astype('object')\n",
    "df['Idade'] = df['Idade'].astype('int')\n",
    "df['Hipertenso'] = df['Hipertenso'].astype('object')\n",
    "df['Problemas_Coracao'] = df['Problemas_Coracao'].astype('object')\n",
    "df['Derrame'] = df['Derrame'].astype('object')"
   ]
  },
  {
   "cell_type": "code",
   "execution_count": 8,
   "id": "255a278f",
   "metadata": {},
   "outputs": [
    {
     "data": {
      "text/html": [
       "<div>\n",
       "<style scoped>\n",
       "    .dataframe tbody tr th:only-of-type {\n",
       "        vertical-align: middle;\n",
       "    }\n",
       "\n",
       "    .dataframe tbody tr th {\n",
       "        vertical-align: top;\n",
       "    }\n",
       "\n",
       "    .dataframe thead th {\n",
       "        text-align: right;\n",
       "    }\n",
       "</style>\n",
       "<table border=\"1\" class=\"dataframe\">\n",
       "  <thead>\n",
       "    <tr style=\"text-align: right;\">\n",
       "      <th></th>\n",
       "      <th>ID</th>\n",
       "      <th>Sexo</th>\n",
       "      <th>Idade</th>\n",
       "      <th>Hipertenso</th>\n",
       "      <th>Problemas_Coracao</th>\n",
       "      <th>Ja_Casado</th>\n",
       "      <th>Tipo_Trabalho</th>\n",
       "      <th>Tipo_Residencia</th>\n",
       "      <th>AVG_Nivel_Glicose</th>\n",
       "      <th>bmi</th>\n",
       "      <th>Status_fumante</th>\n",
       "      <th>Derrame</th>\n",
       "    </tr>\n",
       "  </thead>\n",
       "  <tbody>\n",
       "    <tr>\n",
       "      <th>0</th>\n",
       "      <td>9046</td>\n",
       "      <td>Male</td>\n",
       "      <td>67</td>\n",
       "      <td>0</td>\n",
       "      <td>1</td>\n",
       "      <td>Yes</td>\n",
       "      <td>Private</td>\n",
       "      <td>Urban</td>\n",
       "      <td>228.69</td>\n",
       "      <td>36.6</td>\n",
       "      <td>formerly smoked</td>\n",
       "      <td>1</td>\n",
       "    </tr>\n",
       "    <tr>\n",
       "      <th>1</th>\n",
       "      <td>51676</td>\n",
       "      <td>Female</td>\n",
       "      <td>61</td>\n",
       "      <td>0</td>\n",
       "      <td>0</td>\n",
       "      <td>Yes</td>\n",
       "      <td>Self-employed</td>\n",
       "      <td>Rural</td>\n",
       "      <td>202.21</td>\n",
       "      <td>NaN</td>\n",
       "      <td>never smoked</td>\n",
       "      <td>1</td>\n",
       "    </tr>\n",
       "    <tr>\n",
       "      <th>2</th>\n",
       "      <td>31112</td>\n",
       "      <td>Male</td>\n",
       "      <td>80</td>\n",
       "      <td>0</td>\n",
       "      <td>1</td>\n",
       "      <td>Yes</td>\n",
       "      <td>Private</td>\n",
       "      <td>Rural</td>\n",
       "      <td>105.92</td>\n",
       "      <td>32.5</td>\n",
       "      <td>never smoked</td>\n",
       "      <td>1</td>\n",
       "    </tr>\n",
       "    <tr>\n",
       "      <th>3</th>\n",
       "      <td>60182</td>\n",
       "      <td>Female</td>\n",
       "      <td>49</td>\n",
       "      <td>0</td>\n",
       "      <td>0</td>\n",
       "      <td>Yes</td>\n",
       "      <td>Private</td>\n",
       "      <td>Urban</td>\n",
       "      <td>171.23</td>\n",
       "      <td>34.4</td>\n",
       "      <td>smokes</td>\n",
       "      <td>1</td>\n",
       "    </tr>\n",
       "    <tr>\n",
       "      <th>4</th>\n",
       "      <td>1665</td>\n",
       "      <td>Female</td>\n",
       "      <td>79</td>\n",
       "      <td>1</td>\n",
       "      <td>0</td>\n",
       "      <td>Yes</td>\n",
       "      <td>Self-employed</td>\n",
       "      <td>Rural</td>\n",
       "      <td>174.12</td>\n",
       "      <td>24.0</td>\n",
       "      <td>never smoked</td>\n",
       "      <td>1</td>\n",
       "    </tr>\n",
       "  </tbody>\n",
       "</table>\n",
       "</div>"
      ],
      "text/plain": [
       "      ID    Sexo  Idade Hipertenso Problemas_Coracao Ja_Casado  Tipo_Trabalho  \\\n",
       "0   9046    Male     67          0                 1       Yes        Private   \n",
       "1  51676  Female     61          0                 0       Yes  Self-employed   \n",
       "2  31112    Male     80          0                 1       Yes        Private   \n",
       "3  60182  Female     49          0                 0       Yes        Private   \n",
       "4   1665  Female     79          1                 0       Yes  Self-employed   \n",
       "\n",
       "  Tipo_Residencia  AVG_Nivel_Glicose   bmi   Status_fumante Derrame  \n",
       "0           Urban             228.69  36.6  formerly smoked       1  \n",
       "1           Rural             202.21   NaN     never smoked       1  \n",
       "2           Rural             105.92  32.5     never smoked       1  \n",
       "3           Urban             171.23  34.4           smokes       1  \n",
       "4           Rural             174.12  24.0     never smoked       1  "
      ]
     },
     "execution_count": 8,
     "metadata": {},
     "output_type": "execute_result"
    }
   ],
   "source": [
    "df.head()"
   ]
  },
  {
   "cell_type": "code",
   "execution_count": 9,
   "id": "6b5e3a60",
   "metadata": {},
   "outputs": [
    {
     "name": "stdout",
     "output_type": "stream",
     "text": [
      "<class 'pandas.core.frame.DataFrame'>\n",
      "RangeIndex: 5110 entries, 0 to 5109\n",
      "Data columns (total 12 columns):\n",
      " #   Column             Non-Null Count  Dtype  \n",
      "---  ------             --------------  -----  \n",
      " 0   ID                 5110 non-null   object \n",
      " 1   Sexo               5110 non-null   object \n",
      " 2   Idade              5110 non-null   int32  \n",
      " 3   Hipertenso         5110 non-null   object \n",
      " 4   Problemas_Coracao  5110 non-null   object \n",
      " 5   Ja_Casado          5110 non-null   object \n",
      " 6   Tipo_Trabalho      5110 non-null   object \n",
      " 7   Tipo_Residencia    5110 non-null   object \n",
      " 8   AVG_Nivel_Glicose  5110 non-null   float64\n",
      " 9   bmi                4909 non-null   float64\n",
      " 10  Status_fumante     5110 non-null   object \n",
      " 11  Derrame            5110 non-null   object \n",
      "dtypes: float64(2), int32(1), object(9)\n",
      "memory usage: 459.2+ KB\n"
     ]
    }
   ],
   "source": [
    "df.info()"
   ]
  },
  {
   "cell_type": "code",
   "execution_count": 10,
   "id": "b1ac0099",
   "metadata": {},
   "outputs": [
    {
     "data": {
      "text/plain": [
       "ID                     0\n",
       "Sexo                   0\n",
       "Idade                  0\n",
       "Hipertenso             0\n",
       "Problemas_Coracao      0\n",
       "Ja_Casado              0\n",
       "Tipo_Trabalho          0\n",
       "Tipo_Residencia        0\n",
       "AVG_Nivel_Glicose      0\n",
       "bmi                  201\n",
       "Status_fumante         0\n",
       "Derrame                0\n",
       "dtype: int64"
      ]
     },
     "execution_count": 10,
     "metadata": {},
     "output_type": "execute_result"
    }
   ],
   "source": [
    "# Dados faltantes?\n",
    "df.isna().sum()"
   ]
  },
  {
   "cell_type": "code",
   "execution_count": 11,
   "id": "9dd94c2f",
   "metadata": {},
   "outputs": [],
   "source": [
    "# Preenchido com a média da coluna\n",
    "df.fillna(df['bmi'].mean(), inplace = True)"
   ]
  },
  {
   "cell_type": "code",
   "execution_count": 12,
   "id": "05f26727",
   "metadata": {},
   "outputs": [
    {
     "data": {
      "text/plain": [
       "ID                   0\n",
       "Sexo                 0\n",
       "Idade                0\n",
       "Hipertenso           0\n",
       "Problemas_Coracao    0\n",
       "Ja_Casado            0\n",
       "Tipo_Trabalho        0\n",
       "Tipo_Residencia      0\n",
       "AVG_Nivel_Glicose    0\n",
       "bmi                  0\n",
       "Status_fumante       0\n",
       "Derrame              0\n",
       "dtype: int64"
      ]
     },
     "execution_count": 12,
     "metadata": {},
     "output_type": "execute_result"
    }
   ],
   "source": [
    "df.isna().sum()"
   ]
  },
  {
   "cell_type": "markdown",
   "id": "3017f96e",
   "metadata": {},
   "source": [
    "## Quantas pessoas tiveram derrame?"
   ]
  },
  {
   "cell_type": "code",
   "execution_count": 13,
   "id": "91d69076",
   "metadata": {},
   "outputs": [
    {
     "data": {
      "text/plain": [
       "array([1, 0], dtype=int64)"
      ]
     },
     "execution_count": 13,
     "metadata": {},
     "output_type": "execute_result"
    }
   ],
   "source": [
    "# Categoria\n",
    "# 1 - Derrame\n",
    "# 0 - Não teve derrame\n",
    "df['Derrame'].unique()"
   ]
  },
  {
   "cell_type": "code",
   "execution_count": 14,
   "id": "f49d8d48",
   "metadata": {},
   "outputs": [
    {
     "data": {
      "text/plain": [
       "249"
      ]
     },
     "execution_count": 14,
     "metadata": {},
     "output_type": "execute_result"
    }
   ],
   "source": [
    "df.query('Derrame == 1')['Derrame'].count()\n",
    "\n",
    "# 249 entrevistados tiveram derrame"
   ]
  },
  {
   "cell_type": "code",
   "execution_count": 15,
   "id": "2c5b6078",
   "metadata": {},
   "outputs": [
    {
     "data": {
      "text/plain": [
       "(array([0, 1]), <a list of 2 Text major ticklabel objects>)"
      ]
     },
     "execution_count": 15,
     "metadata": {},
     "output_type": "execute_result"
    },
    {
     "data": {
      "image/png": "[encoded data removed]",
      "text/plain": [
       "<Figure size 576x396 with 1 Axes>"
      ]
     },
     "metadata": {},
     "output_type": "display_data"
    }
   ],
   "source": [
    "# Entrevistados que já teve derrame vs os que não tiveram derrame\n",
    "df.groupby('Derrame')['Derrame'].count().plot.bar(title = 'Entrevistados: Derrame x Não Derrame')\n",
    "plt.ylabel('Quantidade')\n",
    "plt.xticks(rotation='horizontal')"
   ]
  },
  {
   "cell_type": "markdown",
   "id": "4ef3f480",
   "metadata": {},
   "source": [
    "## O que podemos dizer sobre o atributo Sexo?"
   ]
  },
  {
   "cell_type": "code",
   "execution_count": 16,
   "id": "a7962f6c",
   "metadata": {},
   "outputs": [
    {
     "data": {
      "text/plain": [
       "array(['Male', 'Female', 'Other'], dtype=object)"
      ]
     },
     "execution_count": 16,
     "metadata": {},
     "output_type": "execute_result"
    }
   ],
   "source": [
    "# São três classes declaradas pelos entrevistados\n",
    "df['Sexo'].unique()"
   ]
  },
  {
   "cell_type": "code",
   "execution_count": 23,
   "id": "168497c9",
   "metadata": {},
   "outputs": [
    {
     "data": {
      "text/plain": [
       "(array([0, 1, 2]), <a list of 3 Text major ticklabel objects>)"
      ]
     },
     "execution_count": 23,
     "metadata": {},
     "output_type": "execute_result"
    },
    {
     "data": {
      "image/png": "[encoded data removed]",
      "text/plain": [
       "<Figure size 576x396 with 1 Axes>"
      ]
     },
     "metadata": {},
     "output_type": "display_data"
    }
   ],
   "source": [
    "# Quantidade de entrevistados por sexo\n",
    "df.groupby('Sexo')['Sexo'].count().plot.bar(title = 'Quantidade de entrevistados por sexo', color = 'green')\n",
    "plt.ylabel('Quantidade')\n",
    "plt.xticks(rotation='horizontal')"
   ]
  },
  {
   "cell_type": "code",
   "execution_count": 21,
   "id": "25f36f79",
   "metadata": {},
   "outputs": [
    {
     "data": {
      "text/plain": [
       "1"
      ]
     },
     "execution_count": 21,
     "metadata": {},
     "output_type": "execute_result"
    }
   ],
   "source": [
    "# Apenas um entrevistado declarou Outros\n",
    "df.query('Sexo == \"Other\"')['Sexo'].count()"
   ]
  },
  {
   "cell_type": "code",
   "execution_count": 24,
   "id": "5bc366df",
   "metadata": {},
   "outputs": [
    {
     "data": {
      "text/plain": [
       "(array([0, 1]), <a list of 2 Text major ticklabel objects>)"
      ]
     },
     "execution_count": 24,
     "metadata": {},
     "output_type": "execute_result"
    },
    {
     "data": {
      "image/png": "[encoded data removed]",
      "text/plain": [
       "<Figure size 576x396 with 1 Axes>"
      ]
     },
     "metadata": {},
     "output_type": "display_data"
    }
   ],
   "source": [
    "# Os entrevistados que tiveram derrame a maioria são mulheres\n",
    "df.query('Derrame == 1').groupby('Sexo')['Sexo'].count().plot.bar(title = 'Ocorrência de derrame vs Sexo', color = 'green')\n",
    "plt.ylabel('Quantidade')\n",
    "plt.xticks(rotation='horizontal')"
   ]
  },
  {
   "cell_type": "markdown",
   "id": "cfe1629c",
   "metadata": {},
   "source": [
    "## O que podemos observar da idade dos entrevistados?"
   ]
  },
  {
   "cell_type": "code",
   "execution_count": 25,
   "id": "22d9286b",
   "metadata": {},
   "outputs": [
    {
     "data": {
      "text/plain": [
       "count    5110.000000\n",
       "mean       43.215264\n",
       "std        22.633866\n",
       "min         0.000000\n",
       "25%        25.000000\n",
       "50%        45.000000\n",
       "75%        61.000000\n",
       "max        82.000000\n",
       "Name: Idade, dtype: float64"
      ]
     },
     "execution_count": 25,
     "metadata": {},
     "output_type": "execute_result"
    }
   ],
   "source": [
    "# Média, mediana, maior, menor idade\n",
    "df['Idade'].describe()"
   ]
  },
  {
   "cell_type": "code",
   "execution_count": 26,
   "id": "c9a6a51a",
   "metadata": {},
   "outputs": [
    {
     "data": {
      "text/plain": [
       "Text(0.5, 1.0, 'Distribuição de Idade')"
      ]
     },
     "execution_count": 26,
     "metadata": {},
     "output_type": "execute_result"
    },
    {
     "data": {
      "image/png": "[encoded data removed]",
      "text/plain": [
       "<Figure size 576x396 with 1 Axes>"
      ]
     },
     "metadata": {},
     "output_type": "display_data"
    }
   ],
   "source": [
    "# Distribuição das idades\n",
    "plt.boxplot(df['Idade'])\n",
    "plt.ylabel('Idade')\n",
    "plt.title('Distribuição de Idade')"
   ]
  },
  {
   "cell_type": "code",
   "execution_count": 27,
   "id": "0a837bc2",
   "metadata": {},
   "outputs": [
    {
     "data": {
      "text/plain": [
       "67.73"
      ]
     },
     "execution_count": 27,
     "metadata": {},
     "output_type": "execute_result"
    }
   ],
   "source": [
    "# Idade média dos entrevistados que tiveram derrame\n",
    "round(df.query('Derrame == 1')['Idade'].mean(), 2)"
   ]
  },
  {
   "cell_type": "code",
   "execution_count": 30,
   "id": "4c5030ec",
   "metadata": {},
   "outputs": [
    {
     "data": {
      "text/plain": [
       "Text(0.5, 1.0, ' Distribuição de idades das pessoas que tiveram derrame')"
      ]
     },
     "execution_count": 30,
     "metadata": {},
     "output_type": "execute_result"
    },
    {
     "data": {
      "image/png": "[encoded data removed]",
      "text/plain": [
       "<Figure size 576x396 with 1 Axes>"
      ]
     },
     "metadata": {},
     "output_type": "display_data"
    }
   ],
   "source": [
    "plt.boxplot(df.query('Derrame == 1')['Idade'])\n",
    "plt.ylabel('Idade')\n",
    "plt.title(' Distribuição de idades das pessoas que tiveram derrame')\n",
    "\n",
    "# Pudemos observar que existe dois valores bem inferiores nos entrevistados que tiveram derrame, pode ser outliers"
   ]
  },
  {
   "cell_type": "code",
   "execution_count": 31,
   "id": "1af59df2",
   "metadata": {},
   "outputs": [
    {
     "data": {
      "text/html": [
       "<div>\n",
       "<style scoped>\n",
       "    .dataframe tbody tr th:only-of-type {\n",
       "        vertical-align: middle;\n",
       "    }\n",
       "\n",
       "    .dataframe tbody tr th {\n",
       "        vertical-align: top;\n",
       "    }\n",
       "\n",
       "    .dataframe thead th {\n",
       "        text-align: right;\n",
       "    }\n",
       "</style>\n",
       "<table border=\"1\" class=\"dataframe\">\n",
       "  <thead>\n",
       "    <tr style=\"text-align: right;\">\n",
       "      <th></th>\n",
       "      <th>ID</th>\n",
       "      <th>Sexo</th>\n",
       "      <th>Idade</th>\n",
       "      <th>Hipertenso</th>\n",
       "      <th>Problemas_Coracao</th>\n",
       "      <th>Ja_Casado</th>\n",
       "      <th>Tipo_Trabalho</th>\n",
       "      <th>Tipo_Residencia</th>\n",
       "      <th>AVG_Nivel_Glicose</th>\n",
       "      <th>bmi</th>\n",
       "      <th>Status_fumante</th>\n",
       "      <th>Derrame</th>\n",
       "    </tr>\n",
       "  </thead>\n",
       "  <tbody>\n",
       "    <tr>\n",
       "      <th>162</th>\n",
       "      <td>69768</td>\n",
       "      <td>Female</td>\n",
       "      <td>1</td>\n",
       "      <td>0</td>\n",
       "      <td>0</td>\n",
       "      <td>No</td>\n",
       "      <td>children</td>\n",
       "      <td>Urban</td>\n",
       "      <td>70.37</td>\n",
       "      <td>28.893237</td>\n",
       "      <td>Unknown</td>\n",
       "      <td>1</td>\n",
       "    </tr>\n",
       "    <tr>\n",
       "      <th>245</th>\n",
       "      <td>49669</td>\n",
       "      <td>Female</td>\n",
       "      <td>14</td>\n",
       "      <td>0</td>\n",
       "      <td>0</td>\n",
       "      <td>No</td>\n",
       "      <td>children</td>\n",
       "      <td>Rural</td>\n",
       "      <td>57.93</td>\n",
       "      <td>30.900000</td>\n",
       "      <td>Unknown</td>\n",
       "      <td>1</td>\n",
       "    </tr>\n",
       "  </tbody>\n",
       "</table>\n",
       "</div>"
      ],
      "text/plain": [
       "        ID    Sexo  Idade  Hipertenso  Problemas_Coracao Ja_Casado  \\\n",
       "162  69768  Female      1           0                  0        No   \n",
       "245  49669  Female     14           0                  0        No   \n",
       "\n",
       "    Tipo_Trabalho Tipo_Residencia  AVG_Nivel_Glicose        bmi  \\\n",
       "162      children           Urban              70.37  28.893237   \n",
       "245      children           Rural              57.93  30.900000   \n",
       "\n",
       "    Status_fumante  Derrame  \n",
       "162        Unknown        1  \n",
       "245        Unknown        1  "
      ]
     },
     "execution_count": 31,
     "metadata": {},
     "output_type": "execute_result"
    }
   ],
   "source": [
    "# registros fora do padrão\n",
    "df.query('Derrame == 1 & Idade < 30')"
   ]
  },
  {
   "cell_type": "markdown",
   "id": "ad7c5b32",
   "metadata": {},
   "source": [
    "## Hipertesão tem relação com derrame?"
   ]
  },
  {
   "cell_type": "code",
   "execution_count": 32,
   "id": "a74db895",
   "metadata": {},
   "outputs": [
    {
     "data": {
      "text/plain": [
       "0.12790382346648044"
      ]
     },
     "execution_count": 32,
     "metadata": {},
     "output_type": "execute_result"
    }
   ],
   "source": [
    "# Correlação fraca\n",
    "df['Derrame'].corr(df['Hipertenso'])"
   ]
  },
  {
   "cell_type": "code",
   "execution_count": 34,
   "id": "9f69fa18",
   "metadata": {},
   "outputs": [
    {
     "data": {
      "text/plain": [
       "(array([0, 1]), <a list of 2 Text major ticklabel objects>)"
      ]
     },
     "execution_count": 34,
     "metadata": {},
     "output_type": "execute_result"
    },
    {
     "data": {
      "image/png": "[encoded data removed]",
      "text/plain": [
       "<Figure size 576x396 with 1 Axes>"
      ]
     },
     "metadata": {},
     "output_type": "display_data"
    }
   ],
   "source": [
    "df.query('Derrame == 1').groupby('Hipertenso')['Hipertenso'].count().plot.bar(title = 'Pessoas que sofreram derrame vs Hipertensão')\n",
    "plt.ylabel('Quantidade')\n",
    "plt.xticks(rotation='horizontal')"
   ]
  },
  {
   "cell_type": "markdown",
   "id": "70ddfd3f",
   "metadata": {},
   "source": [
    "## O que podemos dizer Derrame vs Problemas no Coração?"
   ]
  },
  {
   "cell_type": "code",
   "execution_count": 42,
   "id": "08af9357",
   "metadata": {},
   "outputs": [
    {
     "data": {
      "text/plain": [
       "array([1, 0], dtype=int64)"
      ]
     },
     "execution_count": 42,
     "metadata": {},
     "output_type": "execute_result"
    }
   ],
   "source": [
    "# 0 - Não tem problemas de coração\n",
    "# 1 - Problemas relacionados ao coração\n",
    "df['Problemas_Coracao'].unique()"
   ]
  },
  {
   "cell_type": "code",
   "execution_count": 43,
   "id": "a7e766d5",
   "metadata": {},
   "outputs": [
    {
     "data": {
      "text/plain": [
       "0.13491399696869297"
      ]
     },
     "execution_count": 43,
     "metadata": {},
     "output_type": "execute_result"
    }
   ],
   "source": [
    "# Correlação positiva fraca\n",
    "df['Problemas_Coracao'].corr(df['Derrame'])"
   ]
  },
  {
   "cell_type": "code",
   "execution_count": 45,
   "id": "0ef143b2",
   "metadata": {},
   "outputs": [
    {
     "data": {
      "text/plain": [
       "(array([0, 1]), <a list of 2 Text major ticklabel objects>)"
      ]
     },
     "execution_count": 45,
     "metadata": {},
     "output_type": "execute_result"
    },
    {
     "data": {
      "image/png": "[encoded data removed]",
      "text/plain": [
       "<Figure size 576x396 with 1 Axes>"
      ]
     },
     "metadata": {},
     "output_type": "display_data"
    }
   ],
   "source": [
    "df.query('Derrame == 1').groupby('Problemas_Coracao')['Problemas_Coracao'].count().plot.bar(title = 'Pessoas que sofreram derrame vs Problemas do Coracao', color = 'green')\n",
    "plt.ylabel('Quantidade')\n",
    "plt.xticks(rotation='horizontal')"
   ]
  },
  {
   "cell_type": "markdown",
   "id": "f018b510",
   "metadata": {},
   "source": [
    "## Quais entrevistados eram casados?"
   ]
  },
  {
   "cell_type": "code",
   "execution_count": 47,
   "id": "4704fee4",
   "metadata": {},
   "outputs": [
    {
     "data": {
      "text/plain": [
       "array(['Yes', 'No'], dtype=object)"
      ]
     },
     "execution_count": 47,
     "metadata": {},
     "output_type": "execute_result"
    }
   ],
   "source": [
    "# Yes - Casados\n",
    "# No - Não casados\n",
    "df['Ja_Casado'].unique()"
   ]
  },
  {
   "cell_type": "code",
   "execution_count": 48,
   "id": "f7315bdb",
   "metadata": {},
   "outputs": [
    {
     "data": {
      "text/plain": [
       "(array([0, 1]), <a list of 2 Text major ticklabel objects>)"
      ]
     },
     "execution_count": 48,
     "metadata": {},
     "output_type": "execute_result"
    },
    {
     "data": {
      "image/png": "[encoded data removed]",
      "text/plain": [
       "<Figure size 576x396 with 1 Axes>"
      ]
     },
     "metadata": {},
     "output_type": "display_data"
    }
   ],
   "source": [
    "# A maioria que sofreram derrame eram casados\n",
    "df.query('Derrame == 1').groupby('Ja_Casado')['Ja_Casado'].count().plot.bar(title = 'Pessoas que sofreram derrame vs Estado civil',)\n",
    "plt.ylabel('Quantidade')\n",
    "plt.xticks(rotation='horizontal')"
   ]
  },
  {
   "cell_type": "markdown",
   "id": "0952c3b0",
   "metadata": {},
   "source": [
    "## Tipos de trabalho"
   ]
  },
  {
   "cell_type": "code",
   "execution_count": 49,
   "id": "e2375809",
   "metadata": {},
   "outputs": [
    {
     "data": {
      "text/plain": [
       "array(['Private', 'Self-employed', 'Govt_job', 'children', 'Never_worked'],\n",
       "      dtype=object)"
      ]
     },
     "execution_count": 49,
     "metadata": {},
     "output_type": "execute_result"
    }
   ],
   "source": [
    "df['Tipo_Trabalho'].unique()"
   ]
  },
  {
   "cell_type": "code",
   "execution_count": 52,
   "id": "b56c5c77",
   "metadata": {},
   "outputs": [
    {
     "data": {
      "text/plain": [
       "(array([0, 1, 2, 3]), <a list of 4 Text major ticklabel objects>)"
      ]
     },
     "execution_count": 52,
     "metadata": {},
     "output_type": "execute_result"
    },
    {
     "data": {
      "image/png": "[encoded data removed]",
      "text/plain": [
       "<Figure size 576x396 with 1 Axes>"
      ]
     },
     "metadata": {},
     "output_type": "display_data"
    }
   ],
   "source": [
    "df.query('Derrame == 1').groupby('Tipo_Trabalho')['Tipo_Trabalho'].count().sort_values().plot.bar(title = 'Pessoas que sofreram derrame vs tipo de trabalho', color = 'green')\n",
    "plt.ylabel('Quantidade')\n",
    "plt.xticks(rotation='horizontal')"
   ]
  },
  {
   "cell_type": "code",
   "execution_count": 53,
   "id": "ab0a86bc",
   "metadata": {},
   "outputs": [
    {
     "data": {
      "text/html": [
       "<div>\n",
       "<style scoped>\n",
       "    .dataframe tbody tr th:only-of-type {\n",
       "        vertical-align: middle;\n",
       "    }\n",
       "\n",
       "    .dataframe tbody tr th {\n",
       "        vertical-align: top;\n",
       "    }\n",
       "\n",
       "    .dataframe thead th {\n",
       "        text-align: right;\n",
       "    }\n",
       "</style>\n",
       "<table border=\"1\" class=\"dataframe\">\n",
       "  <thead>\n",
       "    <tr style=\"text-align: right;\">\n",
       "      <th></th>\n",
       "      <th>ID</th>\n",
       "      <th>Sexo</th>\n",
       "      <th>Idade</th>\n",
       "      <th>Hipertenso</th>\n",
       "      <th>Problemas_Coracao</th>\n",
       "      <th>Ja_Casado</th>\n",
       "      <th>Tipo_Trabalho</th>\n",
       "      <th>Tipo_Residencia</th>\n",
       "      <th>AVG_Nivel_Glicose</th>\n",
       "      <th>bmi</th>\n",
       "      <th>Status_fumante</th>\n",
       "      <th>Derrame</th>\n",
       "    </tr>\n",
       "  </thead>\n",
       "  <tbody>\n",
       "    <tr>\n",
       "      <th>162</th>\n",
       "      <td>69768</td>\n",
       "      <td>Female</td>\n",
       "      <td>1</td>\n",
       "      <td>0</td>\n",
       "      <td>0</td>\n",
       "      <td>No</td>\n",
       "      <td>children</td>\n",
       "      <td>Urban</td>\n",
       "      <td>70.37</td>\n",
       "      <td>28.893237</td>\n",
       "      <td>Unknown</td>\n",
       "      <td>1</td>\n",
       "    </tr>\n",
       "    <tr>\n",
       "      <th>245</th>\n",
       "      <td>49669</td>\n",
       "      <td>Female</td>\n",
       "      <td>14</td>\n",
       "      <td>0</td>\n",
       "      <td>0</td>\n",
       "      <td>No</td>\n",
       "      <td>children</td>\n",
       "      <td>Rural</td>\n",
       "      <td>57.93</td>\n",
       "      <td>30.900000</td>\n",
       "      <td>Unknown</td>\n",
       "      <td>1</td>\n",
       "    </tr>\n",
       "  </tbody>\n",
       "</table>\n",
       "</div>"
      ],
      "text/plain": [
       "        ID    Sexo  Idade  Hipertenso  Problemas_Coracao Ja_Casado  \\\n",
       "162  69768  Female      1           0                  0        No   \n",
       "245  49669  Female     14           0                  0        No   \n",
       "\n",
       "    Tipo_Trabalho Tipo_Residencia  AVG_Nivel_Glicose        bmi  \\\n",
       "162      children           Urban              70.37  28.893237   \n",
       "245      children           Rural              57.93  30.900000   \n",
       "\n",
       "    Status_fumante  Derrame  \n",
       "162        Unknown        1  \n",
       "245        Unknown        1  "
      ]
     },
     "execution_count": 53,
     "metadata": {},
     "output_type": "execute_result"
    }
   ],
   "source": [
    "# Aqueles dados vistos anteriormente\n",
    "df.query('Derrame == 1 & Tipo_Trabalho == \"children\"')"
   ]
  },
  {
   "cell_type": "markdown",
   "id": "905a2a79",
   "metadata": {},
   "source": [
    "## Cidade ou Campo?"
   ]
  },
  {
   "cell_type": "code",
   "execution_count": 56,
   "id": "743011e2",
   "metadata": {},
   "outputs": [
    {
     "data": {
      "text/plain": [
       "array(['Urban', 'Rural'], dtype=object)"
      ]
     },
     "execution_count": 56,
     "metadata": {},
     "output_type": "execute_result"
    }
   ],
   "source": [
    "df['Tipo_Residencia'].unique()"
   ]
  },
  {
   "cell_type": "code",
   "execution_count": 57,
   "id": "2d621913",
   "metadata": {},
   "outputs": [
    {
     "data": {
      "text/plain": [
       "(array([0, 1]), <a list of 2 Text major ticklabel objects>)"
      ]
     },
     "execution_count": 57,
     "metadata": {},
     "output_type": "execute_result"
    },
    {
     "data": {
      "image/png": "[encoded data removed]",
      "text/plain": [
       "<Figure size 576x396 with 1 Axes>"
      ]
     },
     "metadata": {},
     "output_type": "display_data"
    }
   ],
   "source": [
    "df.query('Derrame == 1').groupby('Tipo_Residencia')['Tipo_Residencia'].count().plot.bar(title = 'Pessoas que sofreram derrame vs Campo ou Cidade',)\n",
    "plt.ylabel('Quantidade')\n",
    "plt.xticks(rotation='horizontal')"
   ]
  },
  {
   "cell_type": "markdown",
   "id": "0747f852",
   "metadata": {},
   "source": [
    "## Niveis de glicose"
   ]
  },
  {
   "cell_type": "code",
   "execution_count": 54,
   "id": "61f5a491",
   "metadata": {},
   "outputs": [
    {
     "data": {
      "text/plain": [
       "count    5110.000000\n",
       "mean      106.147677\n",
       "std        45.283560\n",
       "min        55.120000\n",
       "25%        77.245000\n",
       "50%        91.885000\n",
       "75%       114.090000\n",
       "max       271.740000\n",
       "Name: AVG_Nivel_Glicose, dtype: float64"
      ]
     },
     "execution_count": 54,
     "metadata": {},
     "output_type": "execute_result"
    }
   ],
   "source": [
    "# Mediana, media\n",
    "df['AVG_Nivel_Glicose'].describe()"
   ]
  },
  {
   "cell_type": "code",
   "execution_count": 55,
   "id": "41715155",
   "metadata": {},
   "outputs": [
    {
     "data": {
      "text/plain": [
       "{'whiskers': [<matplotlib.lines.Line2D at 0x2931b2ada90>,\n",
       "  <matplotlib.lines.Line2D at 0x2931b8aa9d0>],\n",
       " 'caps': [<matplotlib.lines.Line2D at 0x2931ba327c0>,\n",
       "  <matplotlib.lines.Line2D at 0x2931b639880>],\n",
       " 'boxes': [<matplotlib.lines.Line2D at 0x2931b25d880>],\n",
       " 'medians': [<matplotlib.lines.Line2D at 0x2931ba3ba60>],\n",
       " 'fliers': [<matplotlib.lines.Line2D at 0x2931b975700>],\n",
       " 'means': []}"
      ]
     },
     "execution_count": 55,
     "metadata": {},
     "output_type": "execute_result"
    },
    {
     "data": {
      "image/png": "[encoded data removed]",
      "text/plain": [
       "<Figure size 576x396 with 1 Axes>"
      ]
     },
     "metadata": {},
     "output_type": "display_data"
    }
   ],
   "source": [
    "plt.boxplot(df['AVG_Nivel_Glicose'])"
   ]
  },
  {
   "cell_type": "markdown",
   "id": "f6d2c20e",
   "metadata": {},
   "source": [
    "## Niveis BMI"
   ]
  },
  {
   "cell_type": "code",
   "execution_count": 60,
   "id": "a1cda372",
   "metadata": {},
   "outputs": [
    {
     "data": {
      "text/plain": [
       "count    5110.000000\n",
       "mean       28.893237\n",
       "std         7.698018\n",
       "min        10.300000\n",
       "25%        23.800000\n",
       "50%        28.400000\n",
       "75%        32.800000\n",
       "max        97.600000\n",
       "Name: bmi, dtype: float64"
      ]
     },
     "execution_count": 60,
     "metadata": {},
     "output_type": "execute_result"
    }
   ],
   "source": [
    "# Mediana, media\n",
    "df['bmi'].describe()"
   ]
  },
  {
   "cell_type": "code",
   "execution_count": 61,
   "id": "2057ed57",
   "metadata": {},
   "outputs": [
    {
     "data": {
      "text/plain": [
       "{'whiskers': [<matplotlib.lines.Line2D at 0x2931d590460>,\n",
       "  <matplotlib.lines.Line2D at 0x2931d5907c0>],\n",
       " 'caps': [<matplotlib.lines.Line2D at 0x2931d590b20>,\n",
       "  <matplotlib.lines.Line2D at 0x2931d590e80>],\n",
       " 'boxes': [<matplotlib.lines.Line2D at 0x2931d5900d0>],\n",
       " 'medians': [<matplotlib.lines.Line2D at 0x2931d599220>],\n",
       " 'fliers': [<matplotlib.lines.Line2D at 0x2931d599520>],\n",
       " 'means': []}"
      ]
     },
     "execution_count": 61,
     "metadata": {},
     "output_type": "execute_result"
    },
    {
     "data": {
      "image/png": "[encoded data removed]",
      "text/plain": [
       "<Figure size 576x396 with 1 Axes>"
      ]
     },
     "metadata": {},
     "output_type": "display_data"
    }
   ],
   "source": [
    "plt.boxplot(df['bmi'])"
   ]
  },
  {
   "cell_type": "markdown",
   "id": "a7ebd5a9",
   "metadata": {},
   "source": [
    "## Fumantes"
   ]
  },
  {
   "cell_type": "code",
   "execution_count": 62,
   "id": "a41db0f0",
   "metadata": {},
   "outputs": [
    {
     "data": {
      "text/plain": [
       "array(['formerly smoked', 'never smoked', 'smokes', 'Unknown'],\n",
       "      dtype=object)"
      ]
     },
     "execution_count": 62,
     "metadata": {},
     "output_type": "execute_result"
    }
   ],
   "source": [
    "df['Status_fumante'].unique()"
   ]
  },
  {
   "cell_type": "code",
   "execution_count": 63,
   "id": "a8d5aef2",
   "metadata": {},
   "outputs": [
    {
     "data": {
      "text/plain": [
       "(array([0, 1, 2, 3]), <a list of 4 Text major ticklabel objects>)"
      ]
     },
     "execution_count": 63,
     "metadata": {},
     "output_type": "execute_result"
    },
    {
     "data": {
      "image/png": "[encoded data removed]",
      "text/plain": [
       "<Figure size 576x396 with 1 Axes>"
      ]
     },
     "metadata": {},
     "output_type": "display_data"
    }
   ],
   "source": [
    "df.query('Derrame == 1').groupby('Status_fumante')['Status_fumante'].count().sort_values().plot.bar(title = 'Pessoas que sofreram derrame vs fumantes', color = 'green')\n",
    "plt.ylabel('Quantidade')\n",
    "plt.xticks(rotation='horizontal')"
   ]
  },
  {
   "cell_type": "code",
   "execution_count": null,
   "id": "43cca3ec",
   "metadata": {},
   "outputs": [],
   "source": []
  }
 ],
 "metadata": {
  "kernelspec": {
   "display_name": "Python 3",
   "language": "python",
   "name": "python3"
  },
  "language_info": {
   "codemirror_mode": {
    "name": "ipython",
    "version": 3
   },
   "file_extension": ".py",
   "mimetype": "text/x-python",
   "name": "python",
   "nbconvert_exporter": "python",
   "pygments_lexer": "ipython3",
   "version": "3.8.8"
  }
 },
 "nbformat": 4,
 "nbformat_minor": 5
}
